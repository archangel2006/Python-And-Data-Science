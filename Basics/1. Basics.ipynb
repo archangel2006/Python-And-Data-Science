{
 "cells": [
  {
   "cell_type": "code",
   "execution_count": null,
   "id": "1f43761c-53cc-4dc0-a6fd-dfd58f4454b1",
   "metadata": {},
   "outputs": [],
   "source": [
    "#BASIC CONCEPTS"
   ]
  },
  {
   "cell_type": "code",
   "execution_count": 1,
   "id": "fc3cf17c-4cf4-4c7a-ac33-6c31ee5e986a",
   "metadata": {},
   "outputs": [
    {
     "name": "stdout",
     "output_type": "stream",
     "text": [
      "13 feet has 68640 miles\n"
     ]
    }
   ],
   "source": [
    "ft1=5280\n",
    "ft13=5280*13\n",
    "print(f'13 feet has {ft13} miles')\n"
   ]
  },
  {
   "cell_type": "code",
   "execution_count": 3,
   "id": "57f446f0-183f-4a94-ac8d-4b2b050e6d21",
   "metadata": {},
   "outputs": [
    {
     "name": "stdout",
     "output_type": "stream",
     "text": [
      "26497 seconds in 7hrs 21min 37sec\n"
     ]
    }
   ],
   "source": [
    "print(f'{7*3600+21*60+37} seconds in 7hrs 21min 37sec')"
   ]
  },
  {
   "cell_type": "code",
   "execution_count": 4,
   "id": "0f428aea-a398-4668-9738-9e07366d4f45",
   "metadata": {},
   "outputs": [
    {
     "name": "stdout",
     "output_type": "stream",
     "text": [
      "Perimeter of rectangle with length 4inches and breadth 7inches is 22 inches\n"
     ]
    }
   ],
   "source": [
    "l=4\n",
    "b=7\n",
    "perimeter=2*(l+b)\n",
    "print(f'Perimeter of rectangle with length 4inches and breadth 7inches is {perimeter} inches') "
   ]
  }
 ],
 "metadata": {
  "kernelspec": {
   "display_name": "Python 3 (ipykernel)",
   "language": "python",
   "name": "python3"
  },
  "language_info": {
   "codemirror_mode": {
    "name": "ipython",
    "version": 3
   },
   "file_extension": ".py",
   "mimetype": "text/x-python",
   "name": "python",
   "nbconvert_exporter": "python",
   "pygments_lexer": "ipython3",
   "version": "3.12.4"
  }
 },
 "nbformat": 4,
 "nbformat_minor": 5
}
