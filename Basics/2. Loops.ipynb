{
 "cells": [
  {
   "cell_type": "code",
   "execution_count": null,
   "id": "1c5cc9cd-03f9-409b-a3b0-d06f04cfaedc",
   "metadata": {},
   "outputs": [],
   "source": [
    "#LOOPS"
   ]
  },
  {
   "cell_type": "code",
   "execution_count": 4,
   "id": "59302b6f-9513-4860-9174-78e291b3c464",
   "metadata": {},
   "outputs": [
    {
     "name": "stdout",
     "output_type": "stream",
     "text": [
      "1 2 3 4 5 \n",
      "1 2 3 4 5 "
     ]
    }
   ],
   "source": [
    "for i in range(1,6):\n",
    "    print(i,end=' ')\n",
    "print()\n",
    "n=1\n",
    "while n<6:\n",
    "    print(n,end=' ')\n",
    "    n=n+1"
   ]
  },
  {
   "cell_type": "code",
   "execution_count": 6,
   "id": "d9b341da-0794-4a82-b552-9a5d995a455b",
   "metadata": {},
   "outputs": [
    {
     "name": "stdin",
     "output_type": "stream",
     "text": [
      "Input Number 5\n"
     ]
    },
    {
     "name": "stdout",
     "output_type": "stream",
     "text": [
      "Factorial of 5 is 120\n"
     ]
    }
   ],
   "source": [
    "n=int(input(\"Input Number\"))\n",
    "num=n\n",
    "fact=1\n",
    "while n!=0:\n",
    "    fact=fact*n\n",
    "    n=n-1\n",
    "print(f'Factorial of {num} is {fact}')\n",
    "    \n",
    "    \n",
    "    "
   ]
  },
  {
   "cell_type": "code",
   "execution_count": 8,
   "id": "20a02d25-b5ef-4604-8cda-52da049d70d7",
   "metadata": {},
   "outputs": [
    {
     "name": "stdout",
     "output_type": "stream",
     "text": [
      "1 2 3 4 5 6 7 8 9 10 "
     ]
    }
   ],
   "source": [
    "for i in range (1,11):\n",
    "    print(i,end=' ')"
   ]
  },
  {
   "cell_type": "code",
   "execution_count": 13,
   "id": "5337afda-3a66-4a35-bff3-908fe9f2495e",
   "metadata": {},
   "outputs": [
    {
     "name": "stdout",
     "output_type": "stream",
     "text": [
      "1 2 3 4 5 6 7 8 9 10 "
     ]
    }
   ],
   "source": [
    "num=1\n",
    "while num<11:\n",
    "    print(num,end=' ')\n",
    "    num+=1"
   ]
  },
  {
   "cell_type": "code",
   "execution_count": 14,
   "id": "4b6bf7d7-c6b4-4ebf-8dad-60cf239ca667",
   "metadata": {},
   "outputs": [
    {
     "name": "stdin",
     "output_type": "stream",
     "text": [
      "Enter number 123456789\n"
     ]
    },
    {
     "name": "stdout",
     "output_type": "stream",
     "text": [
      "Number of digits in num is 9\n",
      "Number of digits in num is 9\n"
     ]
    }
   ],
   "source": [
    "num=int(input(\"Enter number\"))\n",
    "num_str=str(num)\n",
    "print(f'Number of digits in num is {len(num_str)}')\n",
    "\n",
    "\n",
    "count=0\n",
    "n=num\n",
    "while n!=0:\n",
    "    n=n//10\n",
    "    count+=1\n",
    "print(f'Number of digits in num is {count}')"
   ]
  },
  {
   "cell_type": "code",
   "execution_count": 32,
   "id": "640b744d-6e24-45a2-a3a3-8d8c69336de0",
   "metadata": {},
   "outputs": [
    {
     "name": "stdin",
     "output_type": "stream",
     "text": [
      "Enter number 123456\n"
     ]
    },
    {
     "name": "stdout",
     "output_type": "stream",
     "text": [
      "Number of digits in num is 6\n",
      "Digits in number:\n",
      "1 2 3 4 5 6 "
     ]
    }
   ],
   "source": [
    "num=int(input(\"Enter number\"))\n",
    "count=0\n",
    "n=num\n",
    "digits=[]\n",
    "while n!=0:\n",
    "    digits.append(n%10)\n",
    "    n=n//10\n",
    "    count+=1\n",
    "print(f'Number of digits in num is {count}')\n",
    "\n",
    "\n",
    "print('Digits in number:')\n",
    "for i in digits[::-1]:\n",
    "    print(i,end=' ')"
   ]
  },
  {
   "cell_type": "code",
   "execution_count": 40,
   "id": "87e024b4-e1b2-4884-a54f-3fa85cf6049a",
   "metadata": {},
   "outputs": [
    {
     "name": "stdin",
     "output_type": "stream",
     "text": [
      "Number: 1\n",
      "Number: 22\n",
      "Number: 33\n",
      "Number: 45\n",
      "Number: 5\n"
     ]
    },
    {
     "name": "stdout",
     "output_type": "stream",
     "text": [
      "Maximum of 5 numbers is 45\n"
     ]
    },
    {
     "name": "stdin",
     "output_type": "stream",
     "text": [
      " 1 2 45 54 23\n"
     ]
    },
    {
     "name": "stdout",
     "output_type": "stream",
     "text": [
      "Maximum of 5 numbers is 54\n"
     ]
    }
   ],
   "source": [
    "num=[]\n",
    "for i in range(5):\n",
    "    n=int(input(\"Number:\"))\n",
    "    num.append(n)\n",
    "print(f'Maximum of 5 numbers is {max(num)}')\n",
    "\n",
    "\n",
    "a,b,c,d,e=input().split()\n",
    "a,b,c,d,e=int(a),int(b),int(c),int(d),int(e)\n",
    "print(f'Maximum of 5 numbers is {max(a,b,c,d,e)}')\n"
   ]
  },
  {
   "cell_type": "code",
   "execution_count": 42,
   "id": "e86838e3-90b3-49da-9daf-4fc0fe089d30",
   "metadata": {},
   "outputs": [
    {
     "name": "stdin",
     "output_type": "stream",
     "text": [
      " 1 3 4 7 9\n"
     ]
    },
    {
     "name": "stdout",
     "output_type": "stream",
     "text": [
      "Maximum number is 9\n"
     ]
    }
   ],
   "source": [
    "a,b,c,d,e=input().split()\n",
    "a,b,c,d,e=int(a),int(b),int(c),int(d),int(e)\n",
    "if a>=b and a>=c and a>=d and a>=e:\n",
    "    print(f'Maximum number is {a}')\n",
    "elif b>=a and b>=c and b>=d and b>=e:\n",
    "    print(f'Maximum number is {b}')\n",
    "elif c>=a and c>=b and c>=d and c>=e:\n",
    "    print(f'Maximum number is {c}')\n",
    "elif d>=a and d>=b and d>=c and d>=e:\n",
    "    print(f'Maximum number is {d}')\n",
    "else:\n",
    "    print(f'Maximum number is {e}')\n",
    "\n",
    "    "
   ]
  },
  {
   "cell_type": "code",
   "execution_count": 44,
   "id": "7e7fc97c-39c0-42dc-adb7-4ab5a8aca685",
   "metadata": {},
   "outputs": [
    {
     "name": "stdin",
     "output_type": "stream",
     "text": [
      "Number: 1\n",
      "Number: 5\n",
      "Number: 3\n",
      "Number: 6\n",
      "Number: 9\n"
     ]
    },
    {
     "name": "stdout",
     "output_type": "stream",
     "text": [
      "Minimum of 5 numbers is 1\n"
     ]
    },
    {
     "name": "stdin",
     "output_type": "stream",
     "text": [
      " 2 5 7 9 8\n"
     ]
    },
    {
     "name": "stdout",
     "output_type": "stream",
     "text": [
      "Minimum of 5 numbers is 2\n"
     ]
    }
   ],
   "source": [
    "num=[]\n",
    "for i in range(5):\n",
    "    n=int(input(\"Number:\"))\n",
    "    num.append(n)\n",
    "print(f'Minimum of 5 numbers is {min(num)}')\n",
    "\n",
    "\n",
    "a,b,c,d,e=input().split()\n",
    "a,b,c,d,e=int(a),int(b),int(c),int(d),int(e)\n",
    "print(f'Minimum of 5 numbers is {min(a,b,c,d,e)}')"
   ]
  },
  {
   "cell_type": "code",
   "execution_count": 45,
   "id": "c61936c7-6083-4e6c-a5e4-8f113db0562e",
   "metadata": {},
   "outputs": [
    {
     "name": "stdin",
     "output_type": "stream",
     "text": [
      " 6 3 5 4 2\n"
     ]
    },
    {
     "name": "stdout",
     "output_type": "stream",
     "text": [
      "Minimum number is 2\n"
     ]
    }
   ],
   "source": [
    "#Print minimum of the five numbers, without using a function.\n",
    "\n",
    "a,b,c,d,e=input().split()\n",
    "a,b,c,d,e=int(a),int(b),int(c),int(d),int(e)\n",
    "if a<=b and a<=c and a<=d and a<=e:\n",
    "    print(f'Minimum number is {a}')\n",
    "elif b<=a and b<=c and b<=d and b<=e:\n",
    "    print(f'Minimum number is {b}')\n",
    "elif c<=a and c<=b and c<=d and c<=e:\n",
    "    print(f'Minimum number is {c}')\n",
    "elif d<=a and d<=b and d<=c and d<=e:\n",
    "    print(f'Minimum number is {d}')\n",
    "else:\n",
    "    print(f'Minimum number is {e}')"
   ]
  },
  {
   "cell_type": "code",
   "execution_count": 47,
   "id": "10adcb1c-bdfe-45af-b090-de475015454e",
   "metadata": {},
   "outputs": [
    {
     "name": "stdout",
     "output_type": "stream",
     "text": [
      "1505 1540 1575 1610 1645 1680 1715 1750 1785 1820 1855 1890 1925 1960 1995 2030 2065 2100 2135 2170 2205 2240 2275 2310 2345 2380 2415 2450 2485 2520 2555 2590 2625 2660 2695 "
     ]
    }
   ],
   "source": [
    "#-Write a python program to find those numbers which are divisible by 7 and multiple of 5 between 1500 and 2700(both included)\n",
    "for i in range (1500,2701):\n",
    "    if (i%7==0 and i%5==0):\n",
    "        print(i,end=' ')"
   ]
  },
  {
   "cell_type": "code",
   "execution_count": 49,
   "id": "374eb94e-4f1f-4aa0-9749-62b97cb4ff0c",
   "metadata": {},
   "outputs": [
    {
     "name": "stdin",
     "output_type": "stream",
     "text": [
      "Temprature in celcius: 0\n"
     ]
    },
    {
     "name": "stdout",
     "output_type": "stream",
     "text": [
      "32.0 degree Fahrenheit\n"
     ]
    },
    {
     "name": "stdin",
     "output_type": "stream",
     "text": [
      "Temprature in fahrenheit: 212\n"
     ]
    },
    {
     "name": "stdout",
     "output_type": "stream",
     "text": [
      "100.0 degree Celcius\n"
     ]
    }
   ],
   "source": [
    "#Write a python program to convert celsius to fahrenheit and fahrenheit to celsius.\n",
    "C=int(input(\"Temprature in celcius:\"))\n",
    "F=(C*1.8)+32\n",
    "print(f'{F} degree Fahrenheit')\n",
    "\n",
    "F=int(input(\"Temprature in fahrenheit:\"))\n",
    "C=(F-32)/1.8\n",
    "print(f'{C} degree Celcius')"
   ]
  },
  {
   "cell_type": "code",
   "execution_count": 53,
   "id": "e692b4fd-95cf-4562-a9b1-2ed2dbe86543",
   "metadata": {},
   "outputs": [
    {
     "name": "stdin",
     "output_type": "stream",
     "text": [
      "Enter word hello\n"
     ]
    },
    {
     "name": "stdout",
     "output_type": "stream",
     "text": [
      "olleh\n",
      "Reversed word is olleh\n"
     ]
    }
   ],
   "source": [
    "# Write a python program that accept a word from the user and reverse it\n",
    "\n",
    "word=input(\"Enter word\")\n",
    "for i in word[::-1]:\n",
    "    print(i,end='')\n",
    "\n",
    "print()\n",
    "print(f'Reversed word is {word[::-1]}')"
   ]
  },
  {
   "cell_type": "code",
   "execution_count": 54,
   "id": "affb5516-8295-45a4-988c-4bea734a3a7c",
   "metadata": {},
   "outputs": [
    {
     "name": "stdout",
     "output_type": "stream",
     "text": [
      "0\n",
      "1\n",
      "2\n",
      "4\n",
      "5\n"
     ]
    }
   ],
   "source": [
    "# Write a python program that print all the number from 0 to 6 except 3 and 6 , using continue statement\n",
    "\n",
    "for i in range(0,7):\n",
    "    if i==3 or i==6:\n",
    "        continue\n",
    "    print(i)"
   ]
  },
  {
   "cell_type": "code",
   "execution_count": 60,
   "id": "42eb0aa1-a7cc-4122-8e4d-fa2668220273",
   "metadata": {},
   "outputs": [
    {
     "name": "stdout",
     "output_type": "stream",
     "text": [
      "Fibonacci series:\n",
      "0\n",
      "1\n",
      "1\n",
      "2\n",
      "3\n",
      "5\n",
      "8\n",
      "13\n",
      "21\n",
      "34\n"
     ]
    }
   ],
   "source": [
    "# Print the fibonacci series between 0 to 50\n",
    "n1=0\n",
    "n2=1\n",
    "nth=0\n",
    "print(\"Fibonacci series:\")\n",
    "while n1<=50:\n",
    "    print(n1)\n",
    "    nth=n1+n2\n",
    "    n1=n2\n",
    "    n2=nth\n",
    "    "
   ]
  },
  {
   "cell_type": "code",
   "execution_count": 62,
   "id": "4ce6855c-4957-4229-9db3-3894d937bd5b",
   "metadata": {},
   "outputs": [
    {
     "name": "stdout",
     "output_type": "stream",
     "text": [
      "200,202,204,206,208,220,222,224,226,228,240,242,244,246,248,260,262,264,266,268,280,282,284,286,288,400\n"
     ]
    }
   ],
   "source": [
    "# write a python program to find number btw 100 to 400 where each digit of a number is an even number . \n",
    "# the number obtained should be printed in a comma-seperated sequence\n",
    "\n",
    "for i in range(100,401):\n",
    "     if i==400:\n",
    "        print(400)\n",
    "     else:\n",
    "        if ((i%10)%2)==0:\n",
    "            if (((i//10)%10)%2)==0:\n",
    "                if (((i//100)%10)%2)==0:\n",
    "                    print(i,end=',')\n",
    "   "
   ]
  },
  {
   "cell_type": "code",
   "execution_count": 66,
   "id": "5175ac60-bbb4-473e-8b07-57c5c23b2b2e",
   "metadata": {},
   "outputs": [
    {
     "name": "stdin",
     "output_type": "stream",
     "text": [
      "Input dog years: 4\n"
     ]
    },
    {
     "name": "stdout",
     "output_type": "stream",
     "text": [
      "Dog age is 29.0 human years\n"
     ]
    }
   ],
   "source": [
    "# Write a python program to calculates a dogs age in human year NOTE:for first two year dog age is 10.5 human year and is 4 times for so on year\n",
    "dog_year=int(input(\"Input dog years:\"))\n",
    "if dog_year<=2:\n",
    "    print(f'Dog age is {dog_year*10.5} human years')\n",
    "else:\n",
    "    dog_age=(2*10.5)+(dog_year-2)*4\n",
    "    print(f'Dog age is {dog_age} human years')\n",
    "    "
   ]
  },
  {
   "cell_type": "code",
   "execution_count": 68,
   "id": "84bb989e-6914-4ee1-bf8c-7f76f3a13c0c",
   "metadata": {},
   "outputs": [
    {
     "name": "stdin",
     "output_type": "stream",
     "text": [
      "Enter the First side : 2\n",
      "Enter the Second side: 2\n",
      "Enter the Third side : 5\n"
     ]
    },
    {
     "name": "stdout",
     "output_type": "stream",
     "text": [
      " It is an isosceles triangle\n"
     ]
    }
   ],
   "source": [
    "# Write a python program to check whether a triangle is equilateral,isosceles or scalene\n",
    "\n",
    "x=input('Enter the First side :') \n",
    "y=input('Enter the Second side:') \n",
    "z=input('Enter the Third side :') \n",
    "if(x==y and x==z): \n",
    "    print('It is an equilateral triangle') \n",
    "elif(x==y and x!=z): \n",
    "    print(' It is an isosceles triangle') \n",
    "elif(x!=y and x==z): \n",
    "    print('It is an isosceles triangle') \n",
    "elif(x!=y and y==z): \n",
    "    print('It is an isosceles triangle')     \n",
    "else:     \n",
    "    print('It is an scalene triangle')     "
   ]
  },
  {
   "cell_type": "code",
   "execution_count": 71,
   "id": "05ddbfc0-3206-4e2c-9f72-d9ccac3b1acf",
   "metadata": {},
   "outputs": [
    {
     "name": "stdin",
     "output_type": "stream",
     "text": [
      "Enter number: 10\n"
     ]
    },
    {
     "name": "stdout",
     "output_type": "stream",
     "text": [
      "Sum of numbers till 10 is 55\n"
     ]
    }
   ],
   "source": [
    "# Accept the input from user and calculate the sum of all the number between 1 and given number\n",
    "\n",
    "n=int(input(\"Enter number:\"))\n",
    "sum=0\n",
    "for i in range (1,n+1):\n",
    "    sum+=i\n",
    "print(f'Sum of numbers till {n} is {sum}')"
   ]
  },
  {
   "cell_type": "code",
   "execution_count": null,
   "id": "95c22609-f1f1-4ecd-97fb-3fd44f99fc56",
   "metadata": {},
   "outputs": [],
   "source": []
  }
 ],
 "metadata": {
  "kernelspec": {
   "display_name": "Python 3 (ipykernel)",
   "language": "python",
   "name": "python3"
  },
  "language_info": {
   "codemirror_mode": {
    "name": "ipython",
    "version": 3
   },
   "file_extension": ".py",
   "mimetype": "text/x-python",
   "name": "python",
   "nbconvert_exporter": "python",
   "pygments_lexer": "ipython3",
   "version": "3.12.4"
  }
 },
 "nbformat": 4,
 "nbformat_minor": 5
}
