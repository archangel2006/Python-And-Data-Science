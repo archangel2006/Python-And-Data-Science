{
 "cells": [
  {
   "cell_type": "code",
   "execution_count": null,
   "id": "b65ac08d-76b3-484d-9872-24d1e0289507",
   "metadata": {},
   "outputs": [],
   "source": [
    "# ARGUMENTS\n",
    "    # Arguments are the values passed inside the parenthesis of the function. A function can have any number of arguments separated by a comma. \n",
    "\n",
    "# Default argument \n",
    "# Keyword arguments (named arguments) \n",
    "# Positional arguments \n",
    "# Arbitrary arguments (variable-length arguments *args and **kwargs)"
   ]
  },
  {
   "cell_type": "code",
   "execution_count": 27,
   "id": "100ae8c6-96eb-4a1a-8b90-1834beca353b",
   "metadata": {},
   "outputs": [
    {
     "data": {
      "text/plain": [
       "(25, 30)"
      ]
     },
     "execution_count": 27,
     "metadata": {},
     "output_type": "execute_result"
    }
   ],
   "source": [
    "# DEFAULT ARGUMENTS\n",
    "     # A default argument is a parameter that assumes a default value if a value is not provided in the function call for that argument.\n",
    "\n",
    "def my_function(x=20,y=30):\n",
    "    return(x,y)\n",
    "my_function(25)\n"
   ]
  },
  {
   "cell_type": "code",
   "execution_count": 16,
   "id": "3a5e5480-26e6-4136-8af4-946cb8f58ba6",
   "metadata": {},
   "outputs": [
    {
     "data": {
      "text/plain": [
       "(15, 20, 30)"
      ]
     },
     "execution_count": 16,
     "metadata": {},
     "output_type": "execute_result"
    }
   ],
   "source": [
    "# KEYWORD ARGUMENTS\n",
    "    # The idea is to allow the caller to specify the argument name with values so that the caller does not need to remember the order of parameters.\n",
    "\n",
    "def my_function(x,y,z):\n",
    "    return(x,y,z)\n",
    "my_function(y=20,z=30,x=15)"
   ]
  },
  {
   "cell_type": "code",
   "execution_count": 1,
   "id": "7b270a60-69e3-4fa0-ac25-66f514830990",
   "metadata": {},
   "outputs": [
    {
     "data": {
      "text/plain": [
       "(15, 20, 25)"
      ]
     },
     "execution_count": 1,
     "metadata": {},
     "output_type": "execute_result"
    }
   ],
   "source": [
    "# POSITION ARGUMENTS\n",
    "    # We used the Position argument during the function call so that the first argument (or value) is assigned to first value and \n",
    "#     the second argument (or value) is assigned to second value.\n",
    "\n",
    "def my_function(x,y,z):\n",
    "    return(x,y,z)\n",
    "my_function(15,20,25)"
   ]
  },
  {
   "cell_type": "code",
   "execution_count": 26,
   "id": "68e5da78-00a9-43d4-b447-f0d44a0247d8",
   "metadata": {},
   "outputs": [
    {
     "name": "stdout",
     "output_type": "stream",
     "text": [
      "1 2 3 4 5 \n",
      "{'a': 1, 'b': 2, 'c': 3}\n"
     ]
    }
   ],
   "source": [
    "# ARBITARY KEYWORD ARGUMENTS\n",
    "   # In Python Arbitrary Keyword Arguments, *args, and **kwargs can pass a variable number of arguments to a function using special symbols.\n",
    "\n",
    "# *args in Python (Non-Keyword Arguments) \n",
    "def demo_args(*args):\n",
    "    for i in args:\n",
    "        print(i,end=' ')\n",
    "demo_args(1,2,3,4,5)\n",
    "\n",
    "print()\n",
    "\n",
    "# **kwargs in Python (Keyword Arguments)\n",
    "def demo_kwargs(**kwargs):\n",
    "    print(kwargs)\n",
    "\n",
    "demo_kwargs(a=1,b=2,c=3)\n",
    "\n"
   ]
  },
  {
   "cell_type": "code",
   "execution_count": 4,
   "id": "3dc14c33-94db-4d6b-af77-b9656e0408e2",
   "metadata": {},
   "outputs": [
    {
     "name": "stdout",
     "output_type": "stream",
     "text": [
      "Number of arguments: 3\n",
      "\n",
      "Argument  List: ['C:\\\\ProgramData\\\\anaconda3\\\\Lib\\\\site-packages\\\\ipykernel_launcher.py', '-f', 'C:\\\\Users\\\\DELL\\\\AppData\\\\Roaming\\\\jupyter\\\\runtime\\\\kernel-daa3d540-b4a0-4b5e-ad26-a951b5cc221a.json']\n",
      "\n",
      "Script name C:\\ProgramData\\anaconda3\\Lib\\site-packages\\ipykernel_launcher.py\n",
      "First argument -f\n",
      "Second argument C:\\Users\\DELL\\AppData\\Roaming\\jupyter\\runtime\\kernel-daa3d540-b4a0-4b5e-ad26-a951b5cc221a.json\n"
     ]
    }
   ],
   "source": [
    "# COMMAND LINE ARGUMENT\n",
    "\n",
    "import sys\n",
    "\n",
    "print(\"Number of arguments:\",len(sys.argv))\n",
    "print()\n",
    "print(\"Argument  List:\",str(sys.argv))\n",
    "print()\n",
    "\n",
    "if len(sys.argv)>1:\n",
    "    print(\"Script name\",sys.argv[0])\n",
    "    print(\"First argument\",sys.argv[1])\n",
    "    print(\"Second argument\",sys.argv[2])\n",
    "else:\n",
    "    print(\"No argument passed\")\n"
   ]
  },
  {
   "cell_type": "code",
   "execution_count": null,
   "id": "c3d325c6-9159-441d-94ec-01750ad84ce0",
   "metadata": {},
   "outputs": [],
   "source": []
  },
  {
   "cell_type": "code",
   "execution_count": 2,
   "id": "5252a7ff-6c0e-4a34-a939-b08d29596303",
   "metadata": {},
   "outputs": [
    {
     "data": {
      "text/plain": [
       "30"
      ]
     },
     "execution_count": 2,
     "metadata": {},
     "output_type": "execute_result"
    }
   ],
   "source": [
    "# RETURN statement\n",
    "       # A return statement is used to end the execution of the function call and “returns” the result \n",
    "       # (value of the expression following the return keyword) to the caller. \n",
    "       # The statements after the return statements are not executed. \n",
    "       # If the return statement is without any expression, then the special value None is returned. \n",
    "       # A return statement is overall used to invoke a function so that the passed statements can be executed.\n",
    "\n",
    "def my_function():\n",
    "    x=10\n",
    "    y=20\n",
    "    return x+y\n",
    "    print(x-y)\n",
    "my_function()"
   ]
  },
  {
   "cell_type": "code",
   "execution_count": null,
   "id": "a364231e-bbce-44a8-a2c9-2ffc0e7b69db",
   "metadata": {},
   "outputs": [],
   "source": [
    "# SCOPE OF VARIABLE\n",
    "      # The scope of variable is a region of the program where a variable is visible or accessible. \n",
    "      # Lifetime of a variable is the duration for which a variable exists in the memory. The existence and accessibility depend on \n",
    "#        the declaration of a variable in the program. \n",
    "\n",
    "# the lifetime of a variable declared inside a function is as long as the function is alive. \n",
    "# When the execution of function body is finished, then the variable defined inside a function will destroy.\n",
    "\n",
    "\n",
    "# LOCAL VARIABLE\n",
    "       # Local variables are those that are initialized within a function and are unique to that function. \n",
    "       # It cannot be accessed outside of the function. \n",
    "\n",
    "# GLOBAL VARIABLE\n",
    "       # Global variables are the ones that are defined and declared outside any function and are not specified to any function. \n",
    "       # They can be used by any part of the program. "
   ]
  }
 ],
 "metadata": {
  "kernelspec": {
   "display_name": "Python 3 (ipykernel)",
   "language": "python",
   "name": "python3"
  },
  "language_info": {
   "codemirror_mode": {
    "name": "ipython",
    "version": 3
   },
   "file_extension": ".py",
   "mimetype": "text/x-python",
   "name": "python",
   "nbconvert_exporter": "python",
   "pygments_lexer": "ipython3",
   "version": "3.12.4"
  }
 },
 "nbformat": 4,
 "nbformat_minor": 5
}
