{
 "cells": [
  {
   "cell_type": "code",
   "execution_count": null,
   "id": "b1d331c9-2889-4f86-999b-8eb2ed33222c",
   "metadata": {},
   "outputs": [],
   "source": [
    "# FUNCTIONS"
   ]
  },
  {
   "cell_type": "code",
   "execution_count": 2,
   "id": "eb497e32-1273-49d5-8878-7009195304d3",
   "metadata": {},
   "outputs": [
    {
     "name": "stdout",
     "output_type": "stream",
     "text": [
      "Maximum number is 22\n"
     ]
    }
   ],
   "source": [
    "# Function to find the max of three numbers\n",
    "\n",
    "def max_number(a,b,c):\n",
    "    if a>=b and a>=c:\n",
    "        print(f'Maximum number is {a}')\n",
    "    elif b>=a and b>=c:\n",
    "        print(f'Maximum number is {b}')\n",
    "    elif c>=b and c>=a:\n",
    "        print(f'Maximum number is {c}')\n",
    "    else:\n",
    "        print('Something went wrong!')\n",
    "\n",
    "max_number(2,22,13)"
   ]
  },
  {
   "cell_type": "code",
   "execution_count": 3,
   "id": "08dd275a-6268-40f2-a3d6-b7cfdec2b1d8",
   "metadata": {},
   "outputs": [
    {
     "name": "stdout",
     "output_type": "stream",
     "text": [
      "Sum of numbers is 19\n"
     ]
    }
   ],
   "source": [
    "#Function to find the sum of all the numbers in a list.\n",
    "\n",
    "def sum_list(L):\n",
    "    sum=0\n",
    "    for i in L:\n",
    "        sum+=i\n",
    "    print(f'Sum of numbers is {sum}')\n",
    "\n",
    "sum_list([1,6,5,3,4])"
   ]
  },
  {
   "cell_type": "code",
   "execution_count": 4,
   "id": "d4073193-9746-47b2-8db2-8531921552c4",
   "metadata": {},
   "outputs": [
    {
     "name": "stdout",
     "output_type": "stream",
     "text": [
      "Product of numbers is 120\n"
     ]
    }
   ],
   "source": [
    "# Function to find the product of all the numbers in a list.\n",
    "\n",
    "def product_list(L):\n",
    "    prod=1\n",
    "    for i in L:\n",
    "        prod=prod*i\n",
    "    print(f'Product of numbers is {prod}')\n",
    "\n",
    "product_list([2,5,4,3])"
   ]
  },
  {
   "cell_type": "code",
   "execution_count": 9,
   "id": "780d77c3-77e8-4f10-8cbe-fdda55bc2f37",
   "metadata": {},
   "outputs": [
    {
     "name": "stdout",
     "output_type": "stream",
     "text": [
      "Reverse string is !EYB OLLEH\n"
     ]
    }
   ],
   "source": [
    " # Function to reverse a string.\n",
    "\n",
    "def rev_str(S):\n",
    "    rev=''\n",
    "    if type(S)==str:\n",
    "        for i in S[::-1]:\n",
    "            rev+=i\n",
    "    else:\n",
    "        print('Enter string only')\n",
    "    print(f'Reverse string is {rev}')\n",
    "            \n",
    "rev_str('HELLO BYE!')"
   ]
  },
  {
   "cell_type": "code",
   "execution_count": 14,
   "id": "2b9676b6-ce41-4c87-817f-216a81a5b4e4",
   "metadata": {},
   "outputs": [
    {
     "name": "stdout",
     "output_type": "stream",
     "text": [
      "Factorial of 5 is 120\n"
     ]
    }
   ],
   "source": [
    "# Function to find the factorial of a non-negative number.\n",
    "\n",
    "def factorial(n):\n",
    "    fac=1\n",
    "    num=n\n",
    "    if n in [0,1]:\n",
    "        print('Factorial is 1')\n",
    "    else:\n",
    "        for i in range(num):\n",
    "            fac=fac*n\n",
    "            n=n-1\n",
    "    print(f'Factorial of {num} is {fac}')\n",
    "\n",
    "factorial(5)"
   ]
  },
  {
   "cell_type": "code",
   "execution_count": 15,
   "id": "21f18073-8be2-4c70-9429-a997aa3066ae",
   "metadata": {},
   "outputs": [
    {
     "name": "stdin",
     "output_type": "stream",
     "text": [
      "Enter strating Range: 20\n",
      "Enter  ending Range: 30\n"
     ]
    },
    {
     "name": "stdout",
     "output_type": "stream",
     "text": [
      "Number exists in given range\n"
     ]
    }
   ],
   "source": [
    "# Function to check whether a number is in a given range.\n",
    "\n",
    "def test_range(m):\n",
    "    if type(m)==int:\n",
    "        r1=int(input(\"Enter strating Range:\"))\n",
    "        r2=int(input(\"Enter  ending Range:\"))\n",
    "        if m in range(r1,r2+1):\n",
    "            print('Number exists in given range')\n",
    "        else:\n",
    "            print(\"Number doesn't exist in given range\")\n",
    "    else:\n",
    "        print(\"Input an integer\")\n",
    "\n",
    "test_range(29)"
   ]
  },
  {
   "cell_type": "code",
   "execution_count": 18,
   "id": "32cff1ef-17ac-4fef-ad4a-652f0a0c162d",
   "metadata": {},
   "outputs": [
    {
     "name": "stdout",
     "output_type": "stream",
     "text": [
      "Number is not prime\n",
      "Number is prime\n",
      "Input an integer\n"
     ]
    }
   ],
   "source": [
    "# Function that takes a number as a parameter and check whether a number is Prime or not.\n",
    "\n",
    "def prime(n):\n",
    "    if  type(n)==int:\n",
    "        for i in range(2,n):\n",
    "            if n%i==0:\n",
    "                print(\"Number is not prime\")\n",
    "                break\n",
    "        else:\n",
    "            print(\"Number is prime\")\n",
    "    else:\n",
    "        print(\"Input an integer\")\n",
    "\n",
    "prime(16)\n",
    "prime(17)\n",
    "prime('a')"
   ]
  },
  {
   "cell_type": "code",
   "execution_count": 21,
   "id": "b62baf88-1155-4f67-b09b-819053620bb4",
   "metadata": {},
   "outputs": [
    {
     "name": "stdout",
     "output_type": "stream",
     "text": [
      "Number is a palindrome\n",
      "Not a palindrome\n",
      "Invalid! Enter a number\n"
     ]
    }
   ],
   "source": [
    "# Function to check whether a number is Palindrome or not.\n",
    "\n",
    "def palindrome(n):\n",
    "    if type(n)==int:\n",
    "        num=str(n)\n",
    "        if num==num[::-1]:\n",
    "            print(\"Number is a palindrome\")\n",
    "        else:\n",
    "            print(\"Not a palindrome\")\n",
    "    else:\n",
    "        print(\"Invalid! Enter a number\")\n",
    "    \n",
    "\n",
    "palindrome(232)\n",
    "palindrome(15)\n",
    "palindrome('aba')"
   ]
  },
  {
   "cell_type": "code",
   "execution_count": 23,
   "id": "e074d3b6-e480-48e7-b654-0778ee055d7f",
   "metadata": {},
   "outputs": [
    {
     "name": "stdout",
     "output_type": "stream",
     "text": [
      "Perfect Number!\n",
      "Perfect Number!\n",
      "Not a Perfect Number\n"
     ]
    }
   ],
   "source": [
    "#  Function to check whether a number is Perfect or not.\n",
    "\n",
    "def perfect(n):\n",
    "    sum=0\n",
    "    for i in range(1,n):\n",
    "        if n%i==0:\n",
    "            sum+=i\n",
    "        else:\n",
    "            continue\n",
    "    if sum==n:\n",
    "        print(\"Perfect Number!\")\n",
    "    else:\n",
    "        print(\"Not a Perfect Number\")\n",
    "        \n",
    "\n",
    "perfect(6)\n",
    "perfect(28)\n",
    "perfect(25)"
   ]
  },
  {
   "cell_type": "code",
   "execution_count": null,
   "id": "acf6e358-b659-4b4e-8a7e-e6528f0a0e87",
   "metadata": {},
   "outputs": [],
   "source": []
  }
 ],
 "metadata": {
  "kernelspec": {
   "display_name": "Python 3 (ipykernel)",
   "language": "python",
   "name": "python3"
  },
  "language_info": {
   "codemirror_mode": {
    "name": "ipython",
    "version": 3
   },
   "file_extension": ".py",
   "mimetype": "text/x-python",
   "name": "python",
   "nbconvert_exporter": "python",
   "pygments_lexer": "ipython3",
   "version": "3.12.4"
  }
 },
 "nbformat": 4,
 "nbformat_minor": 5
}
