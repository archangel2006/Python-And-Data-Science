{
 "cells": [
  {
   "cell_type": "code",
   "execution_count": 21,
   "id": "9f1409fd-5ec1-47d4-9598-d473695e30fb",
   "metadata": {},
   "outputs": [
    {
     "name": "stdin",
     "output_type": "stream",
     "text": [
      "Enter dividend: 25\n",
      "Enter divisor: 8\n"
     ]
    },
    {
     "name": "stdout",
     "output_type": "stream",
     "text": [
      "Remainder:1\n"
     ]
    }
   ],
   "source": [
    "#Q1 Implement a program to calculate the remainder of two numbers using the modulo operator. \n",
    "\n",
    "dividend=int(input(\"Enter dividend:\"))\n",
    "divisor=int(input(\"Enter divisor:\"))\n",
    "remainder=dividend%divisor\n",
    "print(f\"Remainder:{remainder}\")"
   ]
  },
  {
   "cell_type": "code",
   "execution_count": 55,
   "id": "79efd3d6-bd1c-4e9c-928f-444d00655680",
   "metadata": {},
   "outputs": [
    {
     "name": "stdin",
     "output_type": "stream",
     "text": [
      "Enter list1: [1,2,3,4,5]\n",
      "Enter list2: [3,4,5,6,7]\n"
     ]
    },
    {
     "name": "stdout",
     "output_type": "stream",
     "text": [
      "True\n"
     ]
    }
   ],
   "source": [
    "#Q2 Write a program that takes two lists and returns True if they have at least one common member.\n",
    "\n",
    "L1=eval(input(\"Enter list1:\"))\n",
    "L2=eval(input(\"Enter list2:\"))\n",
    "val=False\n",
    "for i in L1:\n",
    "    if i in L2:\n",
    "        val=True\n",
    "        break\n",
    "print(val)"
   ]
  },
  {
   "cell_type": "code",
   "execution_count": 24,
   "id": "2ac0ffd0-82f9-4ee7-8a87-3eb4219c9137",
   "metadata": {},
   "outputs": [
    {
     "name": "stdin",
     "output_type": "stream",
     "text": [
      "Enter dictionary: {'one':1,'two':2,'four':4,'three':3}\n"
     ]
    },
    {
     "name": "stdout",
     "output_type": "stream",
     "text": [
      "Sorted dictionary is:[('two', 2), ('three', 3), ('one', 1), ('four', 4)]\n",
      "[('two', 2), ('three', 3), ('one', 1), ('four', 4)]\n"
     ]
    }
   ],
   "source": [
    "#Q3 Write a Python script to sort (ascending and descending) a dictionary by value. \n",
    "\n",
    "D=eval(input(\"Enter dictionary:\"))\n",
    "D_sorted=sorted([(key, value) for (key, value) in D.items()],reverse=True) \n",
    " \n",
    "print(f\"Sorted dictionary is:{D_sorted}\") \n",
    "print(D_sorted)\n"
   ]
  },
  {
   "cell_type": "code",
   "execution_count": 26,
   "id": "f21327f1-fd23-49fb-8c28-0b4bb35cd130",
   "metadata": {},
   "outputs": [
    {
     "name": "stdin",
     "output_type": "stream",
     "text": [
      "Input: Hello\n"
     ]
    },
    {
     "name": "stdout",
     "output_type": "stream",
     "text": [
      "User input=Hello\n",
      "A B CD\n",
      "01-01-2024\n",
      "HELLO@HI@"
     ]
    }
   ],
   "source": [
    "#Q4 Write Python programs to demonstrate the following: \n",
    "# i) input( ) ii) print( ) iii) ‘sep’ attribute iv) ‘end’ attribute v) replacement Operator ({ }) \n",
    "\n",
    "input_val=input(\"Input:\")\n",
    "print(f\"User input={input_val}\")\n",
    "\n",
    "print('A','B','C', sep=' ', end='') \n",
    "print('D')\n",
    "\n",
    "print('01','01','2024', sep='-', end='\\n')  \n",
    "\n",
    "print('HELLO','HI', sep='@', end='@') "
   ]
  },
  {
   "cell_type": "code",
   "execution_count": 30,
   "id": "381c3035-ec66-4270-a585-253463819800",
   "metadata": {},
   "outputs": [
    {
     "name": "stdin",
     "output_type": "stream",
     "text": [
      "Input string:  hello 143 bye 126\n"
     ]
    },
    {
     "name": "stdout",
     "output_type": "stream",
     "text": [
      "Number of letters: 8\n",
      "Number of digits: 6\n"
     ]
    }
   ],
   "source": [
    "#Q5 Python program that accepts a string and calculates the number of digits and Letters. \n",
    "\n",
    "st = input(\"Input string: \")\n",
    "\n",
    "letters = 0\n",
    "digits = 0\n",
    "\n",
    "\n",
    "for char in st:\n",
    "    if char.isalpha(): \n",
    "        letters += 1\n",
    "    elif char.isdigit(): \n",
    "        digits += 1\n",
    "\n",
    "print(f\"Number of letters: {letters}\")\n",
    "print(f\"Number of digits: {digits}\")\n"
   ]
  },
  {
   "cell_type": "code",
   "execution_count": 32,
   "id": "5c453a8d-dd04-435a-9b85-e2673c5b40b0",
   "metadata": {},
   "outputs": [
    {
     "name": "stdin",
     "output_type": "stream",
     "text": [
      "Input string: Hello! This is Python\n"
     ]
    },
    {
     "name": "stdout",
     "output_type": "stream",
     "text": [
      "substring starting from 3rd character to 5th:llo\n"
     ]
    }
   ],
   "source": [
    "#Q6 Write a Python program to get a substring from a given string starting from the 3rd character to the 5th character.  \n",
    "\n",
    "st=input(\"Input string:\")\n",
    "substring=st[2:5]\n",
    "print(f\"substring starting from 3rd character to 5th:{substring}\")"
   ]
  },
  {
   "cell_type": "code",
   "execution_count": 33,
   "id": "afe233cd-1c31-4146-b0be-424e7a77c3a9",
   "metadata": {},
   "outputs": [
    {
     "name": "stdin",
     "output_type": "stream",
     "text": [
      "Enter dictionary: {'one':1,'two':2,'four':4,'three':3}\n",
      "Enter key to remove from dictionary: three\n"
     ]
    },
    {
     "name": "stdout",
     "output_type": "stream",
     "text": [
      "Dictionary after key-value is removed: {'one': 1, 'two': 2, 'four': 4}\n"
     ]
    }
   ],
   "source": [
    "#Q7 Write a Python program to remove a key-value pair from a dictionary. \n",
    "\n",
    "D=eval(input(\"Enter dictionary:\"))\n",
    "key_del=input(\"Enter key to remove from dictionary:\")\n",
    "del(D[key_del])\n",
    "print(\"Dictionary after key-value is removed:\",D)"
   ]
  },
  {
   "cell_type": "code",
   "execution_count": 35,
   "id": "b970d27c-ac12-4ca5-9ddb-9a073c255f75",
   "metadata": {},
   "outputs": [
    {
     "name": "stdout",
     "output_type": "stream",
     "text": [
      "['Charmander', 'Squirtle', 'Bulbasaur']\n"
     ]
    },
    {
     "data": {
      "text/plain": [
       "<function BufferedReader.close()>"
      ]
     },
     "execution_count": 35,
     "metadata": {},
     "output_type": "execute_result"
    }
   ],
   "source": [
    "#Q8 Write a Python program to read and write to a binary file using random access methods. \n",
    "\n",
    "import pickle\n",
    "# to write objects in file\n",
    "x=open(\"Pokemon.dat\",\"wb\")\n",
    "starters=['Charmander','Squirtle','Bulbasaur']\n",
    "pickle.dump(starters,x)\n",
    "x.close()\n",
    "\n",
    "# to read objects in file\n",
    "f=open(\"Pokemon.dat\",\"rb\")\n",
    "data= pickle.load(f)\n",
    "print(data)\n",
    "f.close\n",
    "\n"
   ]
  },
  {
   "cell_type": "code",
   "execution_count": 36,
   "id": "b3894ffc-0156-4849-8071-508615de1a77",
   "metadata": {},
   "outputs": [
    {
     "name": "stdin",
     "output_type": "stream",
     "text": [
      "Enter File Name: Hello\n"
     ]
    },
    {
     "name": "stdout",
     "output_type": "stream",
     "text": [
      "Error! File Not Found\n"
     ]
    }
   ],
   "source": [
    "#Q9 Write a Python program to handle the exception that occurs when trying to open a non existing file.\n",
    "\n",
    "def Open_File(file):\n",
    "    try:\n",
    "        x=open(file,'r')\n",
    "        data=x.read()\n",
    "        print(f\"File data: {data}\")\n",
    "        x.close()\n",
    "    except FileNotFoundError:\n",
    "        print(\"Error! File Not Found\")\n",
    "file=input(\"Enter File Name:\")\n",
    "Open_File(file)"
   ]
  },
  {
   "cell_type": "code",
   "execution_count": 37,
   "id": "cf65cc6b-a1fe-4c29-afc5-e3072288ff48",
   "metadata": {},
   "outputs": [
    {
     "name": "stdin",
     "output_type": "stream",
     "text": [
      "Input Object: Python Programme\n",
      "Enter index to access 22\n"
     ]
    },
    {
     "name": "stdout",
     "output_type": "stream",
     "text": [
      "Index out of range\n"
     ]
    }
   ],
   "source": [
    "#Q10 Write a Python program to handle the exception that occurs when accessing an index out of range in a list. \n",
    "\n",
    "obj=input(\"Input Object:\")\n",
    "ind=int(input(\"Enter index to access\"))\n",
    "try:\n",
    "    print(obj[ind])\n",
    "except IndexError:\n",
    "    print(\"Index out of range\")"
   ]
  },
  {
   "cell_type": "code",
   "execution_count": 38,
   "id": "921d8c99-36c7-4e7c-ae7d-3122a6444658",
   "metadata": {},
   "outputs": [
    {
     "name": "stdin",
     "output_type": "stream",
     "text": [
      "Enter student name: Jake\n",
      "Enter grade: 12th\n"
     ]
    },
    {
     "name": "stdout",
     "output_type": "stream",
     "text": [
      "14\n"
     ]
    }
   ],
   "source": [
    "#Q11 Create a Python class Student with attributes name and grade. Use the__str__ and __len__ in-built functions to customize the \n",
    "#    string representation and length of the object.\n",
    "\n",
    "class Student:\n",
    "    name=input(\"Enter student name:\")\n",
    "    grade=input(\"Enter grade:\")\n",
    "\n",
    "    def display():\n",
    "        print(f\"\\nStudent Name:{name}\\nGrade:{grade}\")\n",
    "    def __init__(self, a): \n",
    "        self.a = a \n",
    "    def __len__(self): \n",
    "        return len(self.a)\n",
    "\n",
    "object=Student(\"Name and Grade\")\n",
    "print(len(object))"
   ]
  },
  {
   "cell_type": "code",
   "execution_count": 39,
   "id": "eb8c7a9c-c29b-4104-a94b-8b899819cb75",
   "metadata": {},
   "outputs": [
    {
     "name": "stdout",
     "output_type": "stream",
     "text": [
      "Dog: Woof\n"
     ]
    }
   ],
   "source": [
    "#Q12 Create a base class Animal with a method sound. Create a derived class Dog that overrides the sound method to print & quot; \n",
    "#    Woof & quot;. Create an object of the Dog class and call its sound method. \n",
    "\n",
    "class Animal:\n",
    "    def sound(self):\n",
    "        print(\"Generic Animal Sound:\")\n",
    "\n",
    "class Dog(Animal):\n",
    "    def sound(self):\n",
    "        print(\"Dog: Woof\")\n",
    "\n",
    "dog = Dog()\n",
    "dog.sound()"
   ]
  },
  {
   "cell_type": "code",
   "execution_count": 44,
   "id": "8c86c6d2-f56a-4d9c-a2dd-9f89a94a64f8",
   "metadata": {},
   "outputs": [
    {
     "name": "stdout",
     "output_type": "stream",
     "text": [
      "Ferrari\n",
      "Roma\n"
     ]
    }
   ],
   "source": [
    "#Q13 Create a Python class named Car with attributes brand and model. Create an object of this class and print its attributes. \n",
    "\n",
    "class Car:\n",
    "    def __init__(self,brand,model):\n",
    "        self.brand=brand\n",
    "        self.model=model\n",
    "\n",
    "my_car=Car(\"Ferrari\",\"Roma\")\n",
    "\n",
    "print(my_car.brand)\n",
    "print(my_car.model)"
   ]
  },
  {
   "cell_type": "code",
   "execution_count": 45,
   "id": "8b651e8e-985e-4855-8c61-fcf1bad3720c",
   "metadata": {},
   "outputs": [
    {
     "data": {
      "text/plain": [
       "3"
      ]
     },
     "execution_count": 45,
     "metadata": {},
     "output_type": "execute_result"
    }
   ],
   "source": [
    "#Q14 Write a Python function that takes a list as an argument and returns the sum of all the elements in the list. Test this function with a sample list.\n",
    "\n",
    "def list_sum(L):\n",
    "    sum=0\n",
    "    for i in L:\n",
    "        sum+=i\n",
    "    return sum\n",
    "    print(f\"Sum of elements in list is {sum}\")\n",
    "\n",
    "L=[1,4,-2]\n",
    "list_sum(L)"
   ]
  },
  {
   "cell_type": "code",
   "execution_count": 49,
   "id": "bc85bea5-4cbb-445f-9884-115485a55b12",
   "metadata": {},
   "outputs": [
    {
     "name": "stdin",
     "output_type": "stream",
     "text": [
      "Enter first number: 12\n",
      "Enter first number: 6\n",
      "Enter the Operator (+,-,*,/):  /\n"
     ]
    },
    {
     "name": "stdout",
     "output_type": "stream",
     "text": [
      "\n",
      "12 / 6 = 2.0\n"
     ]
    }
   ],
   "source": [
    "#Q15 Write a Python function named operate that takes two numbers and an operation as arguments. The operation can be add, subtract, multiply, or divide. Use lambda functions to perform the respective operations.\n",
    "\n",
    "def add(a, b): \n",
    "    return a+b \n",
    "def sub(a, b): \n",
    "    return a-b \n",
    "def mul(a, b): \n",
    "    return a-b \n",
    "def div(a, b): \n",
    "    return a/b \n",
    "\n",
    "n1=int(input(\"Enter first number:\"))\n",
    "n2=int(input(\"Enter first number:\"))\n",
    "\n",
    "ch = input(\"Enter the Operator (+,-,*,/): \") \n",
    "if ch=='+': \n",
    "    print(\"\\n\" +str(n1)+ \" + \" +str(n2)+ \" = \" +str(add(n1,n2))) \n",
    "elif ch=='-': \n",
    "    print(\"\\n\" +str(n1)+ \" - \" +str(n2)+ \" = \" +str(sub(n1, n2))) \n",
    "elif ch=='*': \n",
    "    print(\"\\n\" +str(n1)+ \" * \" +str(n2)+ \" = \" +str(mul(n1, n2))) \n",
    "elif ch=='/': \n",
    "    print(\"\\n\" +str(n1)+ \" / \" +str(n2)+ \" = \" +str(div(n1, n2))) \n",
    "else: \n",
    "    print(\"\\nInvalid Operator!\")"
   ]
  },
  {
   "cell_type": "code",
   "execution_count": 50,
   "id": "2e01e7af-7bf2-4540-8499-8eeba23118e2",
   "metadata": {},
   "outputs": [
    {
     "data": {
      "image/png": "[encoded data removed]",
      "text/plain": [
       "<Figure size 640x480 with 1 Axes>"
      ]
     },
     "metadata": {},
     "output_type": "display_data"
    }
   ],
   "source": [
    "#Q16 Use Matplotlib to plot a sine wave from 0 to 2π. \n",
    "\n",
    "import numpy as np\n",
    "import matplotlib.pyplot as plt\n",
    "\n",
    "x=np.linspace(0,2*np.pi,100)\n",
    "y=np.sin(x)\n",
    "\n",
    "plt.plot(x,y)\n",
    "plt.xlabel('x')\n",
    "plt.ylabel('sin(x)')\n",
    "plt.title('Sine Wave')\n",
    "plt.grid(True)\n",
    "plt.show()"
   ]
  },
  {
   "cell_type": "code",
   "execution_count": 54,
   "id": "425937b9-b5cd-4d65-bc91-568e97d633ea",
   "metadata": {},
   "outputs": [
    {
     "name": "stdout",
     "output_type": "stream",
     "text": [
      "[ 1  2  3  4  5  6  7  8  9 10]\n",
      "Mean:5.5\n",
      "Mean:5.5\n",
      "Mean:2.8722813232690143\n"
     ]
    }
   ],
   "source": [
    "#Q17 Create a NumPy array containing numbers from 1 to 10. Calculate its mean, median, and standard deviation.\n",
    "\n",
    "import numpy as np\n",
    "array=np.arange(1,11)\n",
    "print(array)\n",
    "\n",
    "print(f\"Mean:{np.mean(array)}\")\n",
    "print(f\"Mean:{np.median(array)}\")\n",
    "print(f\"Mean:{np.std(array)}\")"
   ]
  }
 ],
 "metadata": {
  "kernelspec": {
   "display_name": "Python 3 (ipykernel)",
   "language": "python",
   "name": "python3"
  },
  "language_info": {
   "codemirror_mode": {
    "name": "ipython",
    "version": 3
   },
   "file_extension": ".py",
   "mimetype": "text/x-python",
   "name": "python",
   "nbconvert_exporter": "python",
   "pygments_lexer": "ipython3",
   "version": "3.12.4"
  }
 },
 "nbformat": 4,
 "nbformat_minor": 5
}
