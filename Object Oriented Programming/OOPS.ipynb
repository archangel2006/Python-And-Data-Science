{
 "cells": [
  {
   "cell_type": "code",
   "execution_count": null,
   "id": "ebac2c5a-dda8-46dd-8d4e-5a57a45efa21",
   "metadata": {},
   "outputs": [],
   "source": [
    "# OBJECT ORIENTED PROGRAMMING"
   ]
  },
  {
   "cell_type": "code",
   "execution_count": 5,
   "id": "51437ba8-ccad-4213-a64a-cd537cb4a79f",
   "metadata": {},
   "outputs": [
    {
     "name": "stdout",
     "output_type": "stream",
     "text": [
      "mammal\n",
      "I am a mammal\n",
      "I am a dog\n"
     ]
    }
   ],
   "source": [
    "# PYTHON CLASS\n",
    "        # The class creates a user-defined data structure, which holds its own data members and member functions, \n",
    "        # which can be accessed and used by creating an instance of that class. A class is like a blueprint for an object.\n",
    "\n",
    "# PYHON OBJECT\n",
    "        # Object is an instance of a Class. A class is like a blueprint while an instance is a copy of the class with actual values. \n",
    "            # State: It is represented by the attributes of an object. It also reflects the properties of an object. \n",
    "            # Behavior: It is represented by the methods of an object. It also reflects the response of an object to other objects. \n",
    "            # Identity: It gives a unique name to an object and enables one object to interact with other objects.\n",
    "\n",
    "class Dog:\n",
    "    attr1='mammal'\n",
    "    attr2='dog'\n",
    "    def fun(self):\n",
    "        print('I am a',self.attr1)\n",
    "        print('I am a',self.attr2)\n",
    "\n",
    "Roger=Dog()      # object instantiation\n",
    "print(Roger.attr1)  # accessing attributes\n",
    "print(Roger.fun()   # method throuh objects"
   ]
  },
  {
   "cell_type": "code",
   "execution_count": 5,
   "id": "30fff8e5-13ce-46c5-a88f-61ca3ad2d37b",
   "metadata": {},
   "outputs": [
    {
     "name": "stdout",
     "output_type": "stream",
     "text": [
      "Jake\n",
      "20\n"
     ]
    }
   ],
   "source": [
    "# __init__() - always executed when the class is being initiated. \n",
    "        # Use the __init__() function to assign values to object properties, \n",
    "        # or other operations that are necessary to do when the object is being created.\n",
    "\n",
    "class Person:\n",
    "     def __init__(self, name, age): \n",
    "        self.name=name\n",
    "        self.age=age\n",
    "p1=Person('Jake','20')\n",
    "print(p1.name)\n",
    "print(p1.age)"
   ]
  },
  {
   "cell_type": "code",
   "execution_count": 7,
   "id": "6c3a59a6-b40c-4132-acec-2b5f1795e466",
   "metadata": {},
   "outputs": [
    {
     "name": "stdout",
     "output_type": "stream",
     "text": [
      "<__main__.Person object at 0x0000012995991DC0>\n",
      "Jake(20)\n"
     ]
    }
   ],
   "source": [
    "# __str__() - controls what should be returned when the class object is represented as a string. \n",
    "        # If the __str__() function is not set, the string representation of the object is returned.\n",
    "\n",
    "class Person: \n",
    "    def __init__(self, name, age): \n",
    "        self.name = name \n",
    "        self.age = age \n",
    "p1 = Person(\"Jake\", 20) \n",
    "print(p1)\n",
    "\n",
    "class Person: \n",
    "    def __init__(self, name, age): \n",
    "        self.name = name \n",
    "        self.age = age \n",
    "    def __str__(self): \n",
    "        return f\"{self.name}({self.age})\" \n",
    "p1 = Person(\"Jake\", 20)\n",
    "print(p1)"
   ]
  },
  {
   "cell_type": "code",
   "execution_count": 23,
   "id": "576bcc5e-9640-48f8-aed7-4cb695fc1fad",
   "metadata": {},
   "outputs": [
    {
     "name": "stdout",
     "output_type": "stream",
     "text": [
      "<__main__.ClassName1 object at 0x0000012996C22A20>\n",
      "<__main__.ClassName2 object at 0x0000012996C22A20>\n",
      "\n",
      "Toyota\n",
      "Corolla\n",
      "2020\n",
      "\n",
      "Honda\n",
      "Civic\n",
      "2022\n",
      "\n"
     ]
    }
   ],
   "source": [
    "#  CONSTRUCTOR - a constructor is a special method that is called automatically when an object is created from a class. \n",
    "#                   Its main role is to initialize the object by setting up its attributes or state. \n",
    "\n",
    "# __new__  - This method is responsible for creating a new instance of a class. It allocates memory and returns the new object. \n",
    "#            It is called before __init__.\n",
    "\n",
    "class ClassName1: \n",
    "    def __new__ (cls,parameters):\n",
    "        instance=super(ClassName1,cls).__new__(cls)\n",
    "        return instance\n",
    "print(ClassName1('123'))\n",
    "\n",
    "class ClassName2: \n",
    "    def __init__(self, parameters): \n",
    "        self.attribute = parameters\n",
    "print(ClassName2('124'))\n",
    "\n",
    "print()\n",
    "\n",
    "# DEFAULT PARAMETERS - A default constructor does not take any parameters other than self. It initializes the object with default attribute values. \n",
    "class Car: \n",
    "    def __init__(self): #Initialize the Car with default attributes \n",
    "        self.make = \"Toyota\" \n",
    "        self.model = \"Corolla\" \n",
    "        self.year = 2020 \n",
    "car = Car()  # Creating an instance using the default constructor \n",
    "print(car.make) \n",
    "print(car.model) \n",
    "print(car.year)\n",
    "print()\n",
    "\n",
    "# PARAMETERIZED CONSTRUCTOR - A parameterized constructor accepts arguments to initialize the object’s attributes with specific values. \n",
    "class Car: \n",
    "    def __init__(self, make, model, year): #Initialize the Car with specific attributes. \n",
    "        self.make = make \n",
    "        self.model = model \n",
    "        self.year = year \n",
    "car = Car(\"Honda\", \"Civic\", 2022)  # Creating an instance using the parameterized constructor \n",
    "print(car.make) \n",
    "print(car.model) \n",
    "print(car.year)\n",
    "print()\n",
    "\n"
   ]
  },
  {
   "cell_type": "code",
   "execution_count": 28,
   "id": "c7dfb8a0-2fdc-4fe2-b634-e82018ba2c02",
   "metadata": {},
   "outputs": [
    {
     "name": "stdout",
     "output_type": "stream",
     "text": [
      "1\n",
      "2\n",
      "total count: 2\n"
     ]
    }
   ],
   "source": [
    "# CLASS ATTRIBUTES - Class attributes belong to the class itself they will be shared by all the instances. \n",
    "#                    Such attributes are defined in the class body parts usually at the top, for legibility.\n",
    "\n",
    "class sampleClass:\n",
    "    count=0 # class attribute\n",
    "    def increase(self):\n",
    "        sampleClass.count+=1   # calling increase() on an object\n",
    "\n",
    "s1=sampleClass()\n",
    "s1.increase()\n",
    "print(s1.count)\n",
    "\n",
    "s2=sampleClass()\n",
    "s2.increase()\n",
    "print(s2.count)\n",
    "\n",
    "print(f'total count: {sampleClass.count}')"
   ]
  },
  {
   "cell_type": "code",
   "execution_count": 26,
   "id": "3cb408f1-800e-4eee-b103-9dcbb76ba58d",
   "metadata": {},
   "outputs": [
    {
     "name": "stdout",
     "output_type": "stream",
     "text": [
      "<__main__.emp object at 0x0000012994ED7FB0>\n",
      "Dictionary form: {'name': 'xyz', 'salary': 4000}\n",
      "['__class__', '__delattr__', '__dict__', '__dir__', '__doc__', '__eq__', '__format__', '__ge__', '__getattribute__', '__getstate__', '__gt__', '__hash__', '__init__', '__init_subclass__', '__le__', '__lt__', '__module__', '__ne__', '__new__', '__reduce__', '__reduce_ex__', '__repr__', '__setattr__', '__sizeof__', '__str__', '__subclasshook__', '__weakref__', 'name', 'salary', 'show']\n"
     ]
    }
   ],
   "source": [
    "# INSTANCE/ OBJECT ATTRIBUTES -  Unlike class attributes, instance attributes are not shared by objects. \n",
    "#                                 Every object has its own copy of the instance attribute (In case of class attributes all object refer to single copy).\n",
    "\n",
    "    # vars() – This function displays the attribute of an instance in the form of an dictionary.\n",
    "    # dir() – This function displays more attributes than vars function,as it is not limited to instance. \n",
    "            # It displays the class attributes as well. It also displays the attributes of its ancestor classes.\n",
    "\n",
    "class emp:\n",
    "    def __init__(self):\n",
    "        self.name='xyz'\n",
    "        self.salary=4000\n",
    "    def show(self):\n",
    "        print(self.name)\n",
    "        print(self.salary)\n",
    "e1=emp()\n",
    "print(e1)\n",
    "print(\"Dictionary form:\",vars(e1))\n",
    "print(dir(e1))"
   ]
  },
  {
   "cell_type": "code",
   "execution_count": 31,
   "id": "1570930a-ae6e-459c-8463-61f7255d352c",
   "metadata": {},
   "outputs": [
    {
     "name": "stdout",
     "output_type": "stream",
     "text": [
      "Calling protected member of Base class:  2\n",
      "Protected member 2\n",
      "Protected member 3\n"
     ]
    }
   ],
   "source": [
    "# ENCAPSULATION - It describes the idea of wrapping data and the methods that work on data within one unit. \n",
    "#                 This puts restrictions on accessing variables and methods directly and can prevent the accidental modification of data. \n",
    "        # A class is an example of encapsulation as it encapsulates all the data that is member functions, variables, etc. \n",
    "# The goal of information hiding is to ensure that an object’s state is always valid by controlling access to attributes that are hidden from the outside world.\n",
    "\n",
    "# PROTECTED MEMBERS - Protected members (in C++ and JAVA) are those members of the class that cannot be accessed outside the class \n",
    "#                          but can be accessed from within the class and its subclasses. \n",
    "#                    To accomplish this in Python, just follow the convention by prefixing the name of the member by a single underscore “_”. \n",
    "class Base:\n",
    "    def __init__(self):\n",
    "        self._a=2    # protected member\n",
    "class Derived(Base):   # creating derived class\n",
    "    def __init__(self):\n",
    "        Base.__init__(self)  # calling constructor of base class\n",
    "        print(\"Calling protected member of Base class: \",  self._a) \n",
    "        self._a=3  # modifying value of protected class\n",
    "\n",
    "obj1=Base()\n",
    "obj2=Derived()\n",
    "print(f\"Protected member {obj1._a}\")\n",
    "print(f\"Protected member {obj2._a}\")"
   ]
  },
  {
   "cell_type": "code",
   "execution_count": 41,
   "id": "a8210682-5b16-47eb-a87d-fac1e5b2f84a",
   "metadata": {},
   "outputs": [
    {
     "name": "stdout",
     "output_type": "stream",
     "text": [
      "Calling private member of Base class: Hello!\n",
      "How are you?\n"
     ]
    }
   ],
   "source": [
    "# PRIVATE MEMBERS - Private members are similar to protected members, \n",
    "#                   but the difference is that class members declared as private cannot be accessed outside the class, \n",
    "#                   nor by any derived class. In other words, private members are only accessible within the class where they are declared. \n",
    "\n",
    "class Base:          # creating Base class\n",
    "    def __init__(self):\n",
    "        self.a='How are you?'\n",
    "        self.__c='Hello!'      # private member\n",
    "    def get_private_c(self):\n",
    "        return self.__c\n",
    "class Derived(Base):\n",
    "    def __init__(self):\n",
    "        Base.__init__(self)   # calling constructor of Base class\n",
    "        print(\"Calling private member of Base class:\",self.get_private_c())\n",
    "obj1=Base()\n",
    "obj2=Derived()\n",
    "print(obj1.a)"
   ]
  },
  {
   "cell_type": "code",
   "execution_count": null,
   "id": "020c5bb5-ed45-4de2-9008-d9ba90a3810c",
   "metadata": {},
   "outputs": [],
   "source": [
    "# How Does Encapsulation Benefit Python Code Organization? \n",
    "# 1. Controlled Access: Encapsulation allows controlled access to the internal state of an object, protecting the data from unintended interference. \n",
    "# 2. Data Hiding: It hides the internal workings of a class, making the implementation details invisible to outside code and \n",
    "#                 reducing the risk of accidental data modification. \n",
    "# 3. Improved Maintenance: Changes to the internal implementation of a class do not affect code that uses the class, \n",
    "#                          as long as the public interface remains unchanged. \n",
    "# 4. Enhanced Flexibility: Encapsulation promotes modular design, making it easier to modify or extend functionality \n",
    "#                          without impacting other parts of the program.\n"
   ]
  },
  {
   "cell_type": "code",
   "execution_count": 44,
   "id": "1407e19f-18ef-45a0-b24a-ae240fa9f713",
   "metadata": {},
   "outputs": [
    {
     "name": "stdout",
     "output_type": "stream",
     "text": [
      "Alice 102\n",
      "Jay 103\n",
      "Emp class called\n"
     ]
    }
   ],
   "source": [
    "# INHERITANCE - It is a mechanism that allows you to create a hierarchy of classes that share a set of properties \n",
    "#               and methods by deriving a class from another class. Inheritance is the capability of one class to derive or \n",
    "#               inherit the properties from another class. \n",
    "        # provides the reusability of a code\n",
    "\n",
    "    # PARENT CLASS - A parent class is a class whose properties are inherited by the child class. \n",
    "class Person(object):  \n",
    "    def __init__(self, name, id):  # Constructor\n",
    "        self.name = name \n",
    "        self.id = id \n",
    "    def Display(self):    # To check if this person is an employee \n",
    "        print(self.name, self.id) \n",
    "\n",
    "emp = Person(\"Alice\", 102) # An Object of Person \n",
    "emp.Display()\n",
    "    # CHILD CLASS - A child class is a class that drives the properties from its parent class\n",
    "\n",
    "\n",
    "class Emp(Person): \n",
    "    def Print(self): \n",
    "        print(\"Emp class called\") \n",
    "Emp_details = Emp(\"Jay\", 103)  # calling parent class function \n",
    "Emp_details.Display() # Calling child class function \n",
    "Emp_details.Print()\n",
    "\n",
    "\n",
    "\n",
    "# SINGLE INHERITANCE - A child class inherits from a single parent class. When a child class inherits from only one parent class, \n",
    "#                      it is called single inheritance\n",
    "# MULTIPLE INHERITANCE - A child class inherits from more than one parent class. \n",
    "#                       When a child class inherits from multiple parent classes, it is called multiple inheritances\n",
    "# MULTILEVEL INHERITANCE - A child class inherits from a parent class, which in turn inherits from another parent class.\n",
    "# HIERARCHIAL INHERITANCE - Multiple child classes inherit from the same parent class. \n",
    "# HYBRID INHERITANCE - A combination of two or more types of inheritance. "
   ]
  },
  {
   "cell_type": "code",
   "execution_count": 47,
   "id": "77c36267-0ff3-45cb-bed7-c4adbbf54999",
   "metadata": {},
   "outputs": [
    {
     "name": "stdout",
     "output_type": "stream",
     "text": [
      "New Delhi is the capital of India.\n",
      "Hindi is the most widely spoken language of India.\n",
      "India is a developing country.\n",
      "\n",
      "Washington, D.C. is the capital of USA.\n",
      "English is the primary language of USA.\n",
      "USA is a developed country.\n",
      "\n"
     ]
    }
   ],
   "source": [
    "# POLYMORPHISM - Python can use two different class types, in the same way. \n",
    "        # We create a for loop that iterates through a tuple of objects. \n",
    "        # Then call the methods without being concerned about which class type each object is. \n",
    "        # We assume that these methods actually exist in each class. \n",
    "\n",
    "class India(): \n",
    "    def capital(self): \n",
    "        print(\"New Delhi is the capital of India.\") \n",
    "    def language(self): \n",
    "        print(\"Hindi is the most widely spoken language of India.\") \n",
    "    def type(self): \n",
    "        print(\"India is a developing country.\") \n",
    "\n",
    "class USA(): \n",
    "    def capital(self): \n",
    "        print(\"Washington, D.C. is the capital of USA.\") \n",
    "    def language(self): \n",
    "        print(\"English is the primary language of USA.\") \n",
    "    def type(self): \n",
    "        print(\"USA is a developed country.\")\n",
    "\n",
    "obj_ind = India() \n",
    "obj_usa = USA() \n",
    "\n",
    "for country in (obj_ind, obj_usa): \n",
    "    country.capital() \n",
    "    country.language() \n",
    "    country.type()\n",
    "    print()"
   ]
  },
  {
   "cell_type": "code",
   "execution_count": 48,
   "id": "223cf039-760b-46a7-9a72-f43da89e5703",
   "metadata": {},
   "outputs": [
    {
     "name": "stdout",
     "output_type": "stream",
     "text": [
      "There are many types of birds.\n",
      "Most of the birds can fly but some cannot.\n",
      "There are many types of birds.\n",
      "Sparrows can fly.\n",
      "There are many types of birds.\n",
      "Ostriches cannot fly.\n"
     ]
    }
   ],
   "source": [
    "# POLYMORPHISM WITH INHERITANCE \n",
    "        # Polymorphism lets us define methods in the child class that have the same name as the methods in the parent class. \n",
    "        # In inheritance, the child class inherits the methods from the parent class. \n",
    "        # However, it is possible to modify a method in a child class that it has inherited from the parent class. \n",
    "        # This is particularly useful in cases where the method inherited from the parent class doesn’t quite fit the child class. \n",
    "# In such cases, we re-implement the method in the child class. This process of reimplementing a method in the child class is known as Method Overriding.   \n",
    "\n",
    "class Bird: \n",
    "  def intro(self): \n",
    "    print(\"There are many types of birds.\")     \n",
    "  def flight(self): \n",
    "    print(\"Most of the birds can fly but some cannot.\")   \n",
    "\n",
    "class sparrow(Bird): \n",
    "  def flight(self): \n",
    "    print(\"Sparrows can fly.\")     \n",
    "\n",
    "class ostrich(Bird): \n",
    "  def flight(self): \n",
    "    print(\"Ostriches cannot fly.\") \n",
    "\n",
    "\n",
    "obj_bird = Bird() \n",
    "obj_spr = sparrow()\n",
    "obj_ost = ostrich() \n",
    "obj_bird.intro() \n",
    "obj_bird.flight() \n",
    "obj_spr.intro() \n",
    "obj_spr.flight() \n",
    "obj_ost.intro() \n",
    "obj_ost.flight()"
   ]
  },
  {
   "cell_type": "code",
   "execution_count": null,
   "id": "0d7d744d-2478-4c3e-9014-0d6c4faa96bf",
   "metadata": {},
   "outputs": [],
   "source": [
    "# POLYMORPHISM WITH A FUNCTION AND ONJECTS\n",
    "        # It is also possible to create a function that can take any object, allowing for polymorphism.\n",
    "\n",
    "class India(): \n",
    "    def capital(self): \n",
    "        print(\"New Delhi is the capital of India.\") \n",
    "    def language(self): \n",
    "        print(\"Hindi is the most widely spoken language of India.\") \n",
    "    def type(self): \n",
    "        print(\"India is a developing country.\") \n",
    "\n",
    "class USA(): \n",
    "    def capital(self): \n",
    "        print(\"Washington, D.C. is the capital of USA.\") \n",
    "    def language(self): \n",
    "        print(\"English is the primary language of USA.\") \n",
    "    def type(self): \n",
    "        print(\"USA is a developed country.\") \n",
    "\n",
    "def func(obj): \n",
    "    obj.capital() \n",
    "    obj.language() \n",
    "    obj.type() \n",
    "\n",
    "obj_ind = India() \n",
    "obj_usa = USA() \n",
    "func(obj_ind) \n",
    "func(obj_usa)"
   ]
  }
 ],
 "metadata": {
  "kernelspec": {
   "display_name": "Python 3 (ipykernel)",
   "language": "python",
   "name": "python3"
  },
  "language_info": {
   "codemirror_mode": {
    "name": "ipython",
    "version": 3
   },
   "file_extension": ".py",
   "mimetype": "text/x-python",
   "name": "python",
   "nbconvert_exporter": "python",
   "pygments_lexer": "ipython3",
   "version": "3.12.4"
  }
 },
 "nbformat": 4,
 "nbformat_minor": 5
}
