{
 "cells": [
  {
   "cell_type": "code",
   "execution_count": 3,
   "id": "da955230-9882-4e52-af5e-e303c14b1967",
   "metadata": {},
   "outputs": [
    {
     "name": "stdout",
     "output_type": "stream",
     "text": [
      "    cars  passings\n",
      "0    BMW         3\n",
      "1  Volvo         7\n",
      "2   Ford         2\n"
     ]
    }
   ],
   "source": [
    "#PANDAS\n",
    "  # Pandas is a Python library used for working with data sets.\n",
    "import pandas \n",
    "\n",
    "mydataset = { \n",
    "'cars': [\"BMW\", \"Volvo\", \"Ford\"], \n",
    "'passings': [3, 7, 2] \n",
    "} \n",
    "myvar = pandas.DataFrame(mydataset) \n",
    "print(myvar)"
   ]
  },
  {
   "cell_type": "code",
   "execution_count": 4,
   "id": "e23656f0-bf68-4b91-93e8-7e70bcf4bbfe",
   "metadata": {},
   "outputs": [
    {
     "name": "stdout",
     "output_type": "stream",
     "text": [
      "0    1\n",
      "1    7\n",
      "2    2\n",
      "dtype: int64\n"
     ]
    }
   ],
   "source": [
    "# Panda SERIES\n",
    "  # A Pandas Series is like a column in a table. It is a one-dimensional array holding data of any type.\n",
    "\n",
    "import pandas as pd     # alias: In Python alias are an alternate name for referring to the same thing. \n",
    "a = [1, 7, 2] \n",
    "data = pd.Series(a)\n",
    "print(data)"
   ]
  },
  {
   "cell_type": "code",
   "execution_count": 11,
   "id": "6040751b-8605-41a5-b81d-39b89d2414f1",
   "metadata": {},
   "outputs": [
    {
     "name": "stdout",
     "output_type": "stream",
     "text": [
      "x    1\n",
      "y    7\n",
      "z    2\n",
      "dtype: int64\n"
     ]
    },
    {
     "data": {
      "text/plain": [
       "7"
      ]
     },
     "execution_count": 11,
     "metadata": {},
     "output_type": "execute_result"
    }
   ],
   "source": [
    "# LABELS\n",
    "   # If nothing else is specified, the values are labeled with their index number.\n",
    "data[0]\n",
    "data[1]\n",
    "\n",
    "a = [1, 7, 2] \n",
    "data = pd.Series(a, index = [\"x\", \"y\", \"z\"]) \n",
    "print(data)\n",
    "data['y']"
   ]
  },
  {
   "cell_type": "code",
   "execution_count": 13,
   "id": "41270c1e-395b-47db-8fe3-556b9653e001",
   "metadata": {},
   "outputs": [
    {
     "name": "stdout",
     "output_type": "stream",
     "text": [
      "day1    420\n",
      "day2    380\n",
      "day3    390\n",
      "dtype: int64\n",
      "day1    420\n",
      "day2    380\n",
      "dtype: int64\n"
     ]
    }
   ],
   "source": [
    "# KEY/VALUE OBJECTS as Series \n",
    "      #You can also use a key/value object, like a dictionary, when creating a Series. \n",
    "\n",
    "# Create a simple Pandas Series from a dictionary \n",
    "calories = {\"day1\": 420, \"day2\": 380, \"day3\": 390} \n",
    "data = pd.Series(calories) \n",
    "print(data)\n",
    "\n",
    "#To select only some of the items in the dictionary, use the index argument and specify only the items you want to include in the Series.\n",
    "calories = {\"day1\": 420, \"day2\": 380, \"day3\": 390} \n",
    "data = pd.Series(calories, index = [\"day1\", \"day2\"]) \n",
    "print(data)"
   ]
  },
  {
   "cell_type": "code",
   "execution_count": 18,
   "id": "cd34071c-d802-4b4a-b679-cad8b3f80327",
   "metadata": {},
   "outputs": [
    {
     "name": "stdout",
     "output_type": "stream",
     "text": [
      "   calories  duration\n",
      "0       420        50\n",
      "1       380        40\n",
      "2       390        45\n",
      "   calories  duration\n",
      "0       420        50\n",
      "1       380        40\n"
     ]
    }
   ],
   "source": [
    "# DATAFRAMES\n",
    "   # Data sets in Pandas are usually multi-dimensional tables, called DataFrames. ( Series is like a column, a DataFrame is the whole table. )\n",
    "\n",
    "data = { \n",
    "\"calories\": [420, 380, 390], \n",
    "\"duration\": [50, 40, 45] \n",
    "} \n",
    "df = pd.DataFrame(data) \n",
    "print(df)\n",
    "\n",
    "# locate ROWS - Pandas use the df.loc[] attribute to return one or more specified row(s)\n",
    "print(df.loc[[0,1]])"
   ]
  },
  {
   "cell_type": "code",
   "execution_count": 20,
   "id": "1a8bdc47-5f0c-46fb-a019-1c3e4b2324c2",
   "metadata": {},
   "outputs": [
    {
     "name": "stdout",
     "output_type": "stream",
     "text": [
      "      calories  duration\n",
      "Day1       420        50\n",
      "Day2       380        40\n",
      "Day3       390        45\n"
     ]
    }
   ],
   "source": [
    "#NAMED INDEXES\n",
    "data = { \n",
    "\"calories\": [420, 380, 390], \n",
    "\"duration\": [50, 40, 45] \n",
    "} \n",
    "df=pd.DataFrame(data,index=['Day1','Day2','Day3'])\n",
    "print(df)\n"
   ]
  },
  {
   "cell_type": "code",
   "execution_count": 6,
   "id": "dad118e9-9aaf-430b-95a7-c2c94b8fe542",
   "metadata": {},
   "outputs": [
    {
     "name": "stdout",
     "output_type": "stream",
     "text": [
      "       Name Gender  Chemistry  Maths  Physics\n",
      "0      John      M         56     55       45\n",
      "1    Suresh      M         78     75       96\n",
      "2    Ramesh      M         89     25       54\n",
      "3   Jessica      F         86     78       96\n",
      "4  Jennifer      F         78     58       96\n",
      "5      Annu      F         52     45       87\n",
      "6     pooja      F         61     55       64\n",
      "7    Ritesh      M         87     54       76\n",
      "8     Farha      F         89     55       63\n",
      "9    Mukesh      M         77     96       46\n",
      "----------------------------------\n",
      "60\n",
      "----------------------------------\n",
      "       Name Gender  Chemistry  Maths  Physics\n",
      "0      John      M         56     55       45\n",
      "1    Suresh      M         78     75       96\n",
      "2    Ramesh      M         89     25       54\n",
      "3   Jessica      F         86     78       96\n",
      "4  Jennifer      F         78     58       96\n",
      "     Name Gender  Chemistry  Maths  Physics\n",
      "5    Annu      F         52     45       87\n",
      "6   pooja      F         61     55       64\n",
      "7  Ritesh      M         87     54       76\n",
      "8   Farha      F         89     55       63\n",
      "9  Mukesh      M         77     96       46\n",
      "----------------------------------\n",
      "<class 'pandas.core.frame.DataFrame'>\n",
      "RangeIndex: 10 entries, 0 to 9\n",
      "Data columns (total 5 columns):\n",
      " #   Column     Non-Null Count  Dtype \n",
      "---  ------     --------------  ----- \n",
      " 0   Name       10 non-null     object\n",
      " 1   Gender     10 non-null     object\n",
      " 2   Chemistry  10 non-null     int64 \n",
      " 3   Maths      10 non-null     int64 \n",
      " 4   Physics    10 non-null     int64 \n",
      "dtypes: int64(3), object(2)\n",
      "memory usage: 532.0+ bytes\n",
      "None\n"
     ]
    }
   ],
   "source": [
    "#CSV Files\n",
    "import pandas as pd\n",
    "\n",
    "df=pd.read_csv(\"C:/Users/DELL/Downloads/Students.csv\")   \n",
    "#If you have a large DataFrame with many rows, Pandas will only return the first 5 rows, and the last 5 rows\n",
    "print(df.to_string())\n",
    "print('----------------------------------')\n",
    "\n",
    "print(pd.options.display.max_rows) #Check the number of maximum returned rows\n",
    "\n",
    "print('----------------------------------')\n",
    "\n",
    "print(df.head())\n",
    "print(df.tail())\n",
    "\n",
    "print('----------------------------------')\n",
    "\n",
    "#The DataFrames object has a method called info(), that gives you more information about the data set. \n",
    "print(df.info())"
   ]
  }
 ],
 "metadata": {
  "kernelspec": {
   "display_name": "Python 3 (ipykernel)",
   "language": "python",
   "name": "python3"
  },
  "language_info": {
   "codemirror_mode": {
    "name": "ipython",
    "version": 3
   },
   "file_extension": ".py",
   "mimetype": "text/x-python",
   "name": "python",
   "nbconvert_exporter": "python",
   "pygments_lexer": "ipython3",
   "version": "3.12.4"
  }
 },
 "nbformat": 4,
 "nbformat_minor": 5
}
