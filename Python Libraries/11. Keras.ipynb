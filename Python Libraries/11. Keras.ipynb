{
 "cells": [
  {
   "cell_type": "code",
   "execution_count": null,
   "id": "7ac5ba6f-aed3-43a6-bff3-63ac912a8a06",
   "metadata": {},
   "outputs": [],
   "source": [
    "# KERAS\n",
    "      # Keras is a high-level API designed for building and training neural networks.\n",
    "      # It's user-friendly, modular, and easy to extend, making it accessible for both beginners and experts."
   ]
  },
  {
   "cell_type": "code",
   "execution_count": null,
   "id": "611ead2e-f1cf-4cd0-93b3-e7d4a725ef0b",
   "metadata": {},
   "outputs": [],
   "source": [
    "#BUILDING MODELS \n",
    "\n",
    "#Sequential API: Ideal for models with a single input and output and a linear stack of layers.\n",
    "\n",
    "#Functional API: Allows for more complex models with multiple inputs/outputs, shared layers, and skip connections."
   ]
  },
  {
   "cell_type": "code",
   "execution_count": null,
   "id": "67cbed66-40eb-44a3-896f-f7b912e9b6f9",
   "metadata": {},
   "outputs": [],
   "source": [
    "#SEQUENTIAL API\n",
    "\n",
    "from keras.model import Sequential\n",
    "from keras.layers import Dense,Activation\n",
    "\n",
    "model= Sequential()\n",
    "model.add(Dense(units=64,input_dim=100))\n",
    "model.add(Activation('relu'))\n",
    "model.add(Dense(units=10))\n",
    "model.add(Activation('softmax'))"
   ]
  },
  {
   "cell_type": "code",
   "execution_count": null,
   "id": "8337a22e-c4f3-4849-b98d-770c49cfc486",
   "metadata": {},
   "outputs": [],
   "source": [
    "# FUNCTIONAL API\n",
    "\n",
    "from keras.model import Model\n",
    "from keras.layers import Dense,Input,Concatenate\n",
    "\n",
    "input1=Input(shape(100,))\n",
    "input2=Input(shape(50,))\n",
    "\n",
    "hidden1= Dense(64,activation='relu')(input1)\n",
    "hidden2= Dense(32,activation='relu')(input2)\n",
    "\n",
    "merged=concatenate(hidden1,hidden2)\n",
    "output=Dense(10,activation='softmax')(merged)\n",
    "\n",
    "model=Model(inputs=[input1,input2],outputs=output)"
   ]
  },
  {
   "cell_type": "code",
   "execution_count": null,
   "id": "32978804-0b66-4443-b35e-db99d7c2f9dd",
   "metadata": {},
   "outputs": [],
   "source": [
    "# Applications of Keras\n",
    "        # Image and Video Processing \n",
    "        # NPL Natural Language Processing\n",
    "        # Time Series Forecast\n",
    "        # Autonomous Systems\n",
    "        # Game Development and Reinforcement Learning\n",
    "        # Healthcare\n",
    "        # Sound and Music Generation"
   ]
  }
 ],
 "metadata": {
  "kernelspec": {
   "display_name": "Python 3 (ipykernel)",
   "language": "python",
   "name": "python3"
  },
  "language_info": {
   "codemirror_mode": {
    "name": "ipython",
    "version": 3
   },
   "file_extension": ".py",
   "mimetype": "text/x-python",
   "name": "python",
   "nbconvert_exporter": "python",
   "pygments_lexer": "ipython3",
   "version": "3.12.4"
  }
 },
 "nbformat": 4,
 "nbformat_minor": 5
}
