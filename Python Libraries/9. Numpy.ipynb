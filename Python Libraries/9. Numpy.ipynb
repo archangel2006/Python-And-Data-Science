{
 "cells": [
  {
   "cell_type": "code",
   "execution_count": 81,
   "id": "0c53b9b5-6ada-44fd-aa53-22b613a241ea",
   "metadata": {},
   "outputs": [
    {
     "name": "stdin",
     "output_type": "stream",
     "text": [
      "No of elements in row1: 2\n",
      "No of elements in coloumn1: 2\n",
      "Enter element: 1\n",
      "Enter element: 2\n",
      "Enter element: 3\n",
      "Enter element: 4\n",
      "No of elements in row2: 2\n",
      "No of elements in coloumn2: 2\n",
      "Enter element: 5\n",
      "Enter element: 6\n",
      "Enter element: 7\n",
      "Enter element: 8\n"
     ]
    },
    {
     "name": "stdout",
     "output_type": "stream",
     "text": [
      "Arrays:\n",
      "[[1 2]\n",
      " [3 4]]\n",
      "[[5 6]\n",
      " [7 8]]\n",
      "Sum of arrays is [[ 6  8]\n",
      " [10 12]]\n",
      "Sum of arrays is [[ 6  8]\n",
      " [10 12]]\n",
      "Product of arrays is [[19 22]\n",
      " [43 50]]\n",
      "Product of arrays is [[19 22]\n",
      " [43 50]]\n",
      "Transpose of array1 is [[1 3]\n",
      " [2 4]]\n",
      "Transpose of array2 is [[5 7]\n",
      " [6 8]]\n"
     ]
    }
   ],
   "source": [
    "import numpy as np\n",
    "\n",
    "r1=int(input(\"No of elements in row1:\"))\n",
    "c1=int(input(\"No of elements in coloumn1:\"))\n",
    "array1=np.zeros([r1,c1],dtype=int)\n",
    "for i in range(r1):\n",
    "    for j in range(c1):\n",
    "        array1[i,j]=int(input(\"Enter element:\"))\n",
    "        \n",
    "r2=int(input(\"No of elements in row2:\"))\n",
    "c2=int(input(\"No of elements in coloumn2:\"))\n",
    "array2=np.zeros([r2,c2],dtype=int)\n",
    "for i in range(r2):\n",
    "    for j in range(c2):\n",
    "        array2[i,j]=int(input(\"Enter element:\"))\n",
    "\n",
    "print(\"Arrays:\")\n",
    "print(array1)\n",
    "print(array2)\n",
    "\n",
    "#SUM\n",
    "print(f'Sum of arrays is {np.add(array1,array2)}')\n",
    "print(f'Sum of arrays is {array1+array2}')\n",
    "#PRODUCT\n",
    "print(f'Product of arrays is {np.dot(array1,array2)}')\n",
    "print(f'Product of arrays is {array1@array2}')\n",
    "#TRANSPOSE\n",
    "print(f'Transpose of array1 is {np.transpose(array1)}')\n",
    "print(f'Transpose of array2 is {np.transpose(array2)}')\n"
   ]
  },
  {
   "cell_type": "code",
   "execution_count": 100,
   "id": "64faae24-c412-4381-b2be-28ceff747d00",
   "metadata": {},
   "outputs": [
    {
     "name": "stdout",
     "output_type": "stream",
     "text": [
      "Array is  [1 2 4]\n",
      "Key 2 is found at index 1\n",
      "Key 6 is not found\n"
     ]
    }
   ],
   "source": [
    "#LINEAR SEARCH in array\n",
    "\n",
    "def KeySearch(array,k):\n",
    "     j = \"Key %d is not found\"%k \n",
    "     for i in range(len(array)):\n",
    "        if array[i]==k:\n",
    "            l =\"Key %d is found at index %d\"%(k,i)  \n",
    "            return l\n",
    "     return j\n",
    "\n",
    "a = np.array([1, 2, 4])  \n",
    "print(\"Array is \", a)  \n",
    "m = KeySearch(a, 2)  \n",
    "n = KeySearch(a, 6)  \n",
    "print(m)  \n",
    "print(n) \n",
    "\n"
   ]
  },
  {
   "cell_type": "code",
   "execution_count": 101,
   "id": "04ccd70b-8b07-4cbf-9787-d0117e6238f2",
   "metadata": {},
   "outputs": [
    {
     "name": "stdout",
     "output_type": "stream",
     "text": [
      "[ 0  1  2  4  4  5  6  9 53 56]\n",
      "<class 'numpy.ndarray'>\n",
      "Key 70 is not Found\n",
      "Key 4 is found at index 4\n"
     ]
    }
   ],
   "source": [
    "# BINARY SEARCH in array\n",
    "def Search(a, key, l, r):  \n",
    "    mid = l + r // 2      \n",
    "    if r >= l:          \n",
    "        if (key == a[mid]):  \n",
    "            return \"Key %d is found at index %d\"%(key, mid)          \n",
    "    elif (key >= a[mid]):  \n",
    "        return Search(a, key, mid+l, r)          \n",
    "    elif (key < a[mid]):  \n",
    "        return Search(a, key, l, mid)  \n",
    "    return \"Key %d is not Found\"%key   \n",
    "    \n",
    "# array should always be SORTED for BINARY SEARCH  \n",
    "a = np.array([1, 6, 4, 2, 0, 4, 9, 5, 56, 53])  \n",
    "a.sort() # or \n",
    "np.sort(a)  \n",
    "print(a)  \n",
    "print(type(a))  \n",
    "print(Search(a, 70, 0, len(a)-1))  \n",
    "print(Search(a, 4, 0, len(a)-1))  "
   ]
  },
  {
   "cell_type": "code",
   "execution_count": null,
   "id": "6fd7e7be-144b-4b83-b02c-1873cb0df85c",
   "metadata": {},
   "outputs": [],
   "source": []
  },
  {
   "cell_type": "code",
   "execution_count": 85,
   "id": "0111ee2e-bbcd-4d2f-9c04-ef47c47db80b",
   "metadata": {},
   "outputs": [
    {
     "name": "stdout",
     "output_type": "stream",
     "text": [
      "42\n",
      "\n",
      "[1 2 3 4 5]\n",
      "\n",
      "[[1 2 3]\n",
      " [4 5 6]]\n",
      "\n",
      "[[[ 1  2  3]\n",
      "  [ 4  5  6]]\n",
      "\n",
      " [[ 7  8  9]\n",
      "  [10 11 12]]]\n",
      "\n",
      "0\n",
      "1\n",
      "2\n",
      "3\n"
     ]
    }
   ],
   "source": [
    "# NUMPY\n",
    "      # NumPy is a Python library used for working with arrays.\n",
    "\n",
    "import numpy\n",
    "\n",
    "#ARRAYS\n",
    "    # The array object in NumPy is called ndarray\n",
    "import numpy as np \n",
    "\n",
    "# 0-D arrays (scalars) - are the elements in an array. Each value in an array is a 0-D array. \n",
    "arr = np.array(42) \n",
    "print(arr) \n",
    "print()\n",
    "\n",
    "#  1-D Arrays - An array that has 0-D arrays as its elements is called uni-dimensional or 1-D array. These are the most common and basic arrays. \n",
    "arr = np.array([1, 2, 3, 4, 5]) \n",
    "print(arr) \n",
    "print()\n",
    "\n",
    "# 2-D Arrays (Matrix or table) - An array that has 1-D arrays as its elements is called a 2-D array. . \n",
    "    #NumPy has a whole sub module dedicated towards matrix operations called numpy.mat  \n",
    "arr = np.array([[1, 2, 3], [4, 5, 6]]) \n",
    "print(arr)\n",
    "print()\n",
    "\n",
    "# 3-D arrays - An array that has 2-D arrays (matrices) as its elements is called 3-D array. \n",
    "arr = np.array([[[1, 2, 3], [4, 5, 6]], [[7, 8, 9], [10, 11, 12]]]) \n",
    "print(arr)\n",
    "print()\n",
    "\n",
    "# DIMENSIONS - NumPy Arrays provides the ndim attribute that returns an integer that tells us how many dimensions the array have. \n",
    "a = np.array(42) \n",
    "b = np.array([1, 2, 3, 4, 5]) \n",
    "c = np.array([[1, 2, 3], [4, 5, 6]]) \n",
    "d = np.array([[[1, 2, 3], [4, 5, 6]], [[1, 2, 3], [4, 5, 6]]]) \n",
    "print(a.ndim) \n",
    "print(b.ndim) \n",
    "print(c.ndim) \n",
    "print(d.ndim)"
   ]
  },
  {
   "cell_type": "code",
   "execution_count": 77,
   "id": "6f93617a-be4c-4238-8095-b0e88c820bc6",
   "metadata": {},
   "outputs": [
    {
     "name": "stdout",
     "output_type": "stream",
     "text": [
      "[2 4]\n",
      "[5 6]\n",
      "[7 8 9]\n",
      "[7 8 9]\n",
      "[3 8]\n"
     ]
    },
    {
     "data": {
      "text/plain": [
       "array([[[1, 2],\n",
       "        [4, 5]]])"
      ]
     },
     "execution_count": 77,
     "metadata": {},
     "output_type": "execute_result"
    }
   ],
   "source": [
    "# SLICING arrays \n",
    "  #Slicing in python means taking elements from one given index to another given index. \n",
    "\n",
    "# STEP - Use the step value to determine the step of the slicing:\n",
    "arr = np.array([1, 2, 3, 4, 5, 6, 7])  \n",
    "print(arr[1:5:2]) \n",
    "\n",
    "# Negative Slicing - Use the minus operator to refer to an index from the end\n",
    "arr = np.array([1, 2, 3, 4, 5, 6, 7]) \n",
    "print(arr[-3:-1])\n",
    "\n",
    "\n",
    "#Slicing 2D array\n",
    "arr = np.array([[1, 2, 3, 4, 5], [6, 7, 8, 9, 10]]) \n",
    "print(arr[1, 1:4])\n",
    "\n",
    "arr = np.array([[1, 2, 3, 4, 5], [6, 7, 8, 9, 10]]) \n",
    "print(arr[0:2, 2])\n",
    "\n",
    "#Slicing 3D array\n",
    "arr = np.array([[[1, 2], [4, 5]], [[7, 8], [10, 11]]])\n",
    "arr[0:1,0:2]"
   ]
  },
  {
   "cell_type": "code",
   "execution_count": 21,
   "id": "3a9e8881-5f11-433b-a011-45ac14caef6a",
   "metadata": {},
   "outputs": [
    {
     "name": "stdout",
     "output_type": "stream",
     "text": [
      "[[ 1  2  3]\n",
      " [ 4  5  6]\n",
      " [ 7  8  9]\n",
      " [10 11 12]]\n",
      "-------\n",
      "[[[ 1  2]\n",
      "  [ 3  4]\n",
      "  [ 5  6]]\n",
      "\n",
      " [[ 7  8]\n",
      "  [ 9 10]\n",
      "  [11 12]]]\n"
     ]
    }
   ],
   "source": [
    "#RESHAPING\n",
    "  # Reshaping means changing the shape of an array. \n",
    "  # The shape of an array is the number of elements in each dimension. \n",
    "  # By reshaping we can add or remove dimensions or change number of elements in each dimension. \n",
    "\n",
    "\n",
    "#1D to 2D array\n",
    "arr = np.array([1, 2, 3, 4, 5, 6, 7, 8, 9, 10, 11, 12]) \n",
    "newarr = arr.reshape(4, 3) \n",
    "print(newarr) \n",
    "\n",
    "print('-------')\n",
    "\n",
    "#1D to 3D array\n",
    "arr = np.array([1, 2, 3, 4, 5, 6, 7, 8, 9, 10, 11, 12])\n",
    "newarr = arr.reshape(2,3,2)   #2 arrays that contains 3 arrays, each with 2 elements\n",
    "print(newarr)"
   ]
  },
  {
   "cell_type": "code",
   "execution_count": 52,
   "id": "74ce18c5-4681-4a05-9c42-018d5d6582ce",
   "metadata": {},
   "outputs": [
    {
     "name": "stdout",
     "output_type": "stream",
     "text": [
      "[ 1  2  3  4  5  6  7  8  9 10 11 12]\n",
      "[1 2 3 4 5 6]\n"
     ]
    }
   ],
   "source": [
    "#FLATTENING\n",
    "# Flattening array means converting a multidimensional array into a 1D array.\n",
    "\n",
    "arr_3D = np.array([[[ 1,2],[ 3,4],[ 5,6]],[[ 7,8],[ 9,10],[11,12]]]) \n",
    "newarr = arr_3D.reshape(-1) \n",
    "print(newarr) \n",
    "\n",
    "arr_2D = np.array([[1, 2, 3], [4, 5, 6]])\n",
    "newarr = arr_2D.reshape(-1) \n",
    "print(newarr) \n",
    "\n"
   ]
  },
  {
   "cell_type": "code",
   "execution_count": 53,
   "id": "d11fc2cc-4429-40db-ac9b-f66080dec114",
   "metadata": {},
   "outputs": [
    {
     "name": "stdout",
     "output_type": "stream",
     "text": [
      "[array([1, 2]), array([3, 4]), array([5, 6])]\n",
      "[[ 9 10]\n",
      " [11 12]]\n",
      "[[ 7  8  9]\n",
      " [10 11 12]]\n",
      "[array([[ 1],\n",
      "       [ 4],\n",
      "       [ 7],\n",
      "       [10],\n",
      "       [13],\n",
      "       [16]]), array([[ 2],\n",
      "       [ 5],\n",
      "       [ 8],\n",
      "       [11],\n",
      "       [14],\n",
      "       [17]]), array([[ 3],\n",
      "       [ 6],\n",
      "       [ 9],\n",
      "       [12],\n",
      "       [15],\n",
      "       [18]])]\n",
      "[[ 3]\n",
      " [ 6]\n",
      " [ 9]\n",
      " [12]\n",
      " [15]\n",
      " [18]]\n"
     ]
    }
   ],
   "source": [
    "#SPLIT Into Arrays \n",
    "   # The return value of the array_split() method is an array containing each of the split as an array. \n",
    "   # If you split an array into 3 arrays, you can access them from the result just like any array element: \n",
    "\n",
    "arr = np.array([1, 2, 3, 4, 5, 6]) \n",
    "newarr=np.array_split(arr,3)\n",
    "print(newarr)\n",
    "\n",
    "arr = np.array([[1, 2], [3, 4], [5, 6], [7, 8], [9, 10], [11, 12]])\n",
    "newarr=np.array_split(arr,3)\n",
    "print(newarr[2])\n",
    "\n",
    "arr = np.array([[1, 2, 3], [4, 5, 6], [7, 8, 9], [10, 11, 12], [13, 14, 15], [16, 17, 18]]) \n",
    "newarr = np.array_split(arr, 3) \n",
    "print(newarr[1]) \n",
    "\n",
    "#can specify which axis you want to do the split around.\n",
    "\n",
    "arr = np.array([[1, 2, 3], [4, 5, 6], [7, 8, 9], [10, 11, 12], [13, 14, 15], [16, 17, 18]]) \n",
    "newarr = np.array_split(arr, 3, axis=1) \n",
    "print(newarr)\n",
    "\n",
    "#hsplit() - opposite f hstack()\n",
    "arr = np.array([[1, 2, 3], [4, 5, 6], [7, 8, 9], [10, 11, 12], [13, 14, 15], [16, 17, 18]]) \n",
    "newarr = np.hsplit(arr, 3) \n",
    "print(newarr[2]) "
   ]
  },
  {
   "cell_type": "code",
   "execution_count": 56,
   "id": "955b8b4d-5973-4393-a774-a0145fb9cf7e",
   "metadata": {},
   "outputs": [
    {
     "name": "stdout",
     "output_type": "stream",
     "text": [
      "(array([3, 5, 6], dtype=int64),)\n",
      "(array([1, 3, 5, 7], dtype=int64),)\n"
     ]
    }
   ],
   "source": [
    "# SEARCHING arrays - np.where(condition)\n",
    "\n",
    "arr = np.array([1, 2, 3, 4, 5, 4, 4]) \n",
    "x=np.where(arr==4)\n",
    "print(x)\n",
    "\n",
    "arr = np.array([1, 2, 3, 4, 5, 6, 7, 8]) \n",
    "x = np.where(arr%2 == 0)   #where value is even number\n",
    "print(x)"
   ]
  },
  {
   "cell_type": "code",
   "execution_count": 63,
   "id": "ae06d70d-ece3-4ea2-ab56-622b6f25baf4",
   "metadata": {},
   "outputs": [
    {
     "name": "stdout",
     "output_type": "stream",
     "text": [
      "1\n",
      "2\n",
      "[0 3 2]\n",
      "[2 1 3 4]\n"
     ]
    }
   ],
   "source": [
    "#SEARCHSORTED - np.searchsorted(array,value)\n",
    " #There is a method called searchsorted() which performs a binary search in the array, \n",
    " #and returns the index where the specified value would be inserted to maintain the search order.\n",
    "\n",
    "arr = np.array([6, 7, 8, 9]) \n",
    "x = np.searchsorted(arr, 7) \n",
    "print(x)\n",
    "\n",
    "arr = np.array([6, 7, 8, 9]) \n",
    "x = np.searchsorted(arr, 7, side='right')   \n",
    "#By default the left most index is returned, but we can give side='right' to return the right most index instead. \n",
    "print(x) \n",
    "\n",
    "arr = np.array([1, 3, 5, 7]) \n",
    "x = np.searchsorted(arr, [1, 7, 5])   #search multiple values by putting them in an array\n",
    "print(x)\n",
    "\n",
    "arr = np.array([1, 3, 5, 7]) \n",
    "x = np.searchsorted(arr, [4, 2, 6, 8])   #find the indexes where the values 2, 4, and 6 should be inserted\n",
    "print(x)"
   ]
  },
  {
   "cell_type": "code",
   "execution_count": 74,
   "id": "b398b03d-009b-4987-b6b7-8df3ae949fbd",
   "metadata": {},
   "outputs": [
    {
     "name": "stdout",
     "output_type": "stream",
     "text": [
      "[0 1 2 3]\n",
      "['apple' 'banana' 'cherry']\n",
      "[[2 3 4]\n",
      " [0 1 5]]\n"
     ]
    }
   ],
   "source": [
    "# SORTING arrays - np.sort()\n",
    "\n",
    "#Sorting means putting elements in an ordered sequence. \n",
    "   # Ordered sequence is any sequence that has an order corresponding to elements, like numeric or alphabetical, ascending or descending. \n",
    "\n",
    "arr = np.array([3, 2, 0, 1]) \n",
    "print(np.sort(arr))\n",
    "\n",
    "arr = np.array(['banana', 'cherry', 'apple']) \n",
    "print(np.sort(arr))\n",
    "\n",
    "#sort 2D array  (both arrays will be sorted)\n",
    "arr = np.array([[3, 2, 4], [5, 0, 1]]) \n",
    "print(np.sort(arr))"
   ]
  }
 ],
 "metadata": {
  "kernelspec": {
   "display_name": "Python 3 (ipykernel)",
   "language": "python",
   "name": "python3"
  },
  "language_info": {
   "codemirror_mode": {
    "name": "ipython",
    "version": 3
   },
   "file_extension": ".py",
   "mimetype": "text/x-python",
   "name": "python",
   "nbconvert_exporter": "python",
   "pygments_lexer": "ipython3",
   "version": "3.12.4"
  }
 },
 "nbformat": 4,
 "nbformat_minor": 5
}
