{
 "cells": [
  {
   "cell_type": "markdown",
   "id": "c03e01f1-f00e-4aac-b11e-b5183de3875e",
   "metadata": {},
   "source": []
  },
  {
   "cell_type": "code",
   "execution_count": null,
   "id": "83664a8a-358d-468f-8387-9876afb4b5b1",
   "metadata": {},
   "outputs": [],
   "source": []
  },
  {
   "cell_type": "code",
   "execution_count": null,
   "id": "8a963b99-a8ec-4360-afb3-76a6cbad6dc5",
   "metadata": {},
   "outputs": [],
   "source": []
  },
  {
   "cell_type": "code",
   "execution_count": null,
   "id": "7b7c80dd-7228-4188-b8a6-38803e7c1026",
   "metadata": {},
   "outputs": [],
   "source": [
    "# MATHEMATICAL COMPUTING WITH PYTHON NUMPY"
   ]
  },
  {
   "cell_type": "code",
   "execution_count": 2,
   "id": "df39c95b-aa86-4b65-b08e-be12ff9ef3a9",
   "metadata": {},
   "outputs": [
    {
     "name": "stdout",
     "output_type": "stream",
     "text": [
      "[1 2 3 4 5]\n"
     ]
    }
   ],
   "source": [
    "# NUMPY ARRAYS\n",
    "\n",
    "import numpy as np    # importing module\n",
    "\n",
    "array = np.array([1, 2, 3, 4, 5])    # Creating a NumPy array\n",
    "print(array)  # Output: [1 2 3 4 5]\n"
   ]
  },
  {
   "cell_type": "code",
   "execution_count": 26,
   "id": "4f6de2de-6169-49f0-a89e-18b68b468437",
   "metadata": {},
   "outputs": [
    {
     "name": "stdout",
     "output_type": "stream",
     "text": [
      "float32\n"
     ]
    }
   ],
   "source": [
    "# DATA TYPES\n",
    "arr = np.array([1, 2, 3], dtype='float32')\n",
    "print(arr.dtype)  # Output: float32\n",
    "\n",
    "\n",
    "#Common Data Types:\n",
    "        # int32, int64: Integer types\n",
    "        # float32, float64: Floating-point types\n",
    "        # bool: Boolean type\n"
   ]
  },
  {
   "cell_type": "code",
   "execution_count": 22,
   "id": "ca3509b4-554a-418d-bc60-46c33ddc1ce4",
   "metadata": {},
   "outputs": [
    {
     "name": "stdout",
     "output_type": "stream",
     "text": [
      "[[0. 0. 0.]\n",
      " [0. 0. 0.]]\n",
      "\n",
      "[[1. 1. 1.]\n",
      " [1. 1. 1.]\n",
      " [1. 1. 1.]]\n",
      "\n",
      "[[1. 0. 0.]\n",
      " [0. 1. 0.]\n",
      " [0. 0. 1.]]\n",
      "\n",
      "[[0.03123073 0.72113665]\n",
      " [0.66961511 0.04346165]]\n"
     ]
    }
   ],
   "source": [
    "# ARRAY CREATION\n",
    "\n",
    "import numpy as np\n",
    "\n",
    "# Zero array\n",
    "zeros = np.zeros((2, 3))  # 2x3 array of zeros\n",
    "\n",
    "# One array\n",
    "ones = np.ones((3, 3))    # 3x3 array of ones\n",
    "\n",
    "# Identity matrix\n",
    "identity = np.eye(3)      # 3x3 identity matrix\n",
    "\n",
    "# Random array\n",
    "random_array = np.random.rand(2, 2)\n",
    "\n",
    "print(zeros)\n",
    "print()\n",
    "print(ones)\n",
    "print()\n",
    "print(identity)\n",
    "print()\n",
    "print(random_array)"
   ]
  },
  {
   "cell_type": "code",
   "execution_count": 16,
   "id": "8863b8ed-05f4-4d9d-be66-b31f3042a887",
   "metadata": {},
   "outputs": [
    {
     "name": "stdout",
     "output_type": "stream",
     "text": [
      "2\n",
      "[2 5]\n",
      "[4 5 6]\n"
     ]
    }
   ],
   "source": [
    "array = np.array([[1, 2, 3], [4, 5, 6]])\n",
    "print(array[0, 1])      # Access element (row 0, col 1): 2\n",
    "print(array[:, 1])      # Access entire 2nd column: [2, 5]\n",
    "print(array[1, :])      # Access entire 2nd row: [4, 5, 6]\n"
   ]
  },
  {
   "cell_type": "code",
   "execution_count": 5,
   "id": "c51eab28-62a3-4cd1-9368-1c381b49d4bb",
   "metadata": {},
   "outputs": [
    {
     "name": "stdout",
     "output_type": "stream",
     "text": [
      "Sorted Data: [18 26 29 35 39 52 73 76 79 88]\n",
      "Doubled Data: [ 78 146 176  70  58  36  52 158 152 104]\n",
      "Sum of Data: 515\n",
      "Mean value: 51.5\n",
      "Standard Deviation: 24.20433845408711\n",
      "Filtered Data: [73 88 79 76 52]\n",
      "Reshaped Data: [[39 73]\n",
      " [88 35]\n",
      " [29 18]\n",
      " [26 79]\n",
      " [76 52]]\n",
      "Sum of 2 Datasets: [ 74 116 117  98 128  64 108 120  84  83]\n",
      "Median value: 45.5\n",
      "Variance: 585.85\n"
     ]
    }
   ],
   "source": [
    "# DATA PROCESSING USING ARRAYS\n",
    "\n",
    "\n",
    "# Step 1: Create a large dataset\n",
    "data = np.random.randint(0, 100, size=(10,))  # Array of 1000 random integers between 0 and 100\n",
    "# Step 2: Perform an operation (sorting the data)\n",
    "sorted_data = np.sort(data)  # Sort the data in ascending order\n",
    "# Step 3: Output the result\n",
    "print(f'Sorted Data: {sorted_data}')\n",
    "\n",
    "\n",
    "\n",
    "\n",
    "# 1. ELEMENT-WISE OPERATIONS\n",
    "doubled_data = data * 2           # Element-wise operation: Multiply every element by 2\n",
    "print(f'Doubled Data: {doubled_data}')\n",
    "\n",
    "# 2. AGGREGATE FUNCTIONS\n",
    "total = np.sum(data)              # Calculate the sum of all elements\n",
    "print(f'Sum of Data: {total}')\n",
    "mean_value = np.mean(data)        # Calculate the mean of all elements\n",
    "print(f'Mean value: {mean_value}')\n",
    "std_dev = np.std(data)            # Calculate the standard deviation\n",
    "print(f'Standard Deviation: {std_dev}')\n",
    "\n",
    "# 3. FILTERING \n",
    "filtered_data = data[data > 50]   # Select all values greater than 50\n",
    "print(f'Filtered Data: {filtered_data}')\n",
    "\n",
    "# 4. RESHAPING DATA\n",
    "reshaped_data = data.reshape(5, 2) # 2D array (10 rows, 100 columns)\n",
    "print(f'Reshaped Data: {reshaped_data}')\n",
    "\n",
    "# 5. VECTORIZED OPERATIONS\n",
    "data2 = np.random.randint(0, 100, size=(10,))\n",
    "sum_data = data + data2          # Add two arrays element-wise\n",
    "print(f'Sum of 2 Datasets: {sum_data}')\n",
    "\n",
    "# 6. STATISTICAL FUNCTIONS\n",
    "median_value = np.median(data)   # Median of the data\n",
    "print(f'Median value: {median_value}')\n",
    "variance = np.var(data)          # Variance of the data\n",
    "print(f'Variance: {variance}')\n"
   ]
  },
  {
   "cell_type": "code",
   "execution_count": 20,
   "id": "6bcb4fd1-9f28-44f6-ab2b-263667aa504c",
   "metadata": {},
   "outputs": [
    {
     "name": "stdout",
     "output_type": "stream",
     "text": [
      "[[1 2 3]\n",
      " [4 5 6]]\n"
     ]
    }
   ],
   "source": [
    "# LOADING & SAVING DATA\n",
    "np.save('data.npy', array)          # loading\n",
    "loaded_array = np.load('data.npy')  # saving\n",
    "print(loaded_array)"
   ]
  },
  {
   "cell_type": "code",
   "execution_count": 21,
   "id": "04e8f59c-3af6-4469-845f-abeafb3c2cac",
   "metadata": {},
   "outputs": [
    {
     "name": "stdout",
     "output_type": "stream",
     "text": [
      "[0.8740059  0.96401902 0.26795499 0.34509111 0.35706917]\n",
      "[0.45546281 0.48021967 1.6891799  0.65397695 0.88885102]\n"
     ]
    }
   ],
   "source": [
    "# NUMPY RANDOM NUMBERS\n",
    "random_numbers = np.random.rand(5)  # Array of 5 random numbers\n",
    "normal_dist = np.random.normal(size=5)  # Normal distribution\n",
    "print(random_numbers)\n",
    "print(normal_dist)"
   ]
  },
  {
   "cell_type": "code",
   "execution_count": null,
   "id": "63243e56-b5af-42ef-bae3-5e867c149c58",
   "metadata": {},
   "outputs": [],
   "source": [
    "# DATA MANIPULATION WITH PANDAS"
   ]
  },
  {
   "cell_type": "code",
   "execution_count": 2,
   "id": "b1b22ada-b15c-4397-af1d-dbeed0f70c55",
   "metadata": {},
   "outputs": [
    {
     "name": "stdout",
     "output_type": "stream",
     "text": [
      "      Name  Age\n",
      "0    Alice   25\n",
      "1      Bob   30\n",
      "2  Charlie   35\n"
     ]
    }
   ],
   "source": [
    "# DATA WRANGLING - Data wrangling refers to the process of cleaning, transforming, and structuring data for analysis.\n",
    "\n",
    "import pandas as pd\n",
    "\n",
    "data = {'Name': ['Alice', 'Bob', 'Charlie'], 'Age': [25, 30, 35]}   \n",
    "df = pd.DataFrame(data)   # Sample data dictionary\n",
    "print(df)                 # View the DataFrame\n",
    "\n",
    "\n",
    "# The pd.DataFrame(data) creates the DataFrame and the print(df) outputs the content."
   ]
  },
  {
   "cell_type": "code",
   "execution_count": 3,
   "id": "c7fac54f-5cdc-4811-b50b-107befd19339",
   "metadata": {},
   "outputs": [
    {
     "name": "stdout",
     "output_type": "stream",
     "text": [
      "      Name  Age\n",
      "0    Alice   25\n",
      "1      Bob   30\n",
      "2  Charlie   35\n",
      "<class 'pandas.core.frame.DataFrame'>\n",
      "RangeIndex: 3 entries, 0 to 2\n",
      "Data columns (total 2 columns):\n",
      " #   Column  Non-Null Count  Dtype \n",
      "---  ------  --------------  ----- \n",
      " 0   Name    3 non-null      object\n",
      " 1   Age     3 non-null      int64 \n",
      "dtypes: int64(1), object(1)\n",
      "memory usage: 180.0+ bytes\n",
      "None\n",
      "        Age\n",
      "count   3.0\n",
      "mean   30.0\n",
      "std     5.0\n",
      "min    25.0\n",
      "25%    27.5\n",
      "50%    30.0\n",
      "75%    32.5\n",
      "max    35.0\n",
      "      Name  Age\n",
      "0    Alice   25\n",
      "1      Bob   30\n",
      "2  Charlie   35\n"
     ]
    }
   ],
   "source": [
    "# DATA EXPLORATION  - Exploring data is essential to understand its structure, types, and quality.\n",
    "\n",
    "print(df.head())       # View the first 5 rows of the DataFrame\n",
    "print(df.info())       # Information about the DataFrame (data types, non-null counts)\n",
    "print(df.describe())   # Summary statistics of numeric columns\n",
    "print(df.tail())       # View the last 5 rows of the DataFrame\n",
    "\n",
    "# head() shows the first 5 rows of the DataFrame.\n",
    "# info() provides an overview of the DataFrame, including column names, number of non-null values, and data types.\n",
    "# describe() summarizes the statistics (like mean, standard deviation, etc.) of numeric columns.\n",
    "# tail() return the last 5 rows by default."
   ]
  },
  {
   "cell_type": "code",
   "execution_count": 31,
   "id": "5ed9487c-e73e-430f-a845-825aa5dae0bb",
   "metadata": {},
   "outputs": [
    {
     "name": "stdout",
     "output_type": "stream",
     "text": [
      "      Name  Age\n",
      "0    Alice   25\n",
      "1      Bob   30\n",
      "2  Charlie   35\n"
     ]
    }
   ],
   "source": [
    "# CLEANING DATA - Data often comes with missing values, duplicates, or other issues that need cleaning.\n",
    "\n",
    "df.dropna(inplace=True)             # Removing null values, Drop rows with missing values\n",
    "df.fillna(0,inplace=True)           # Replacing null values with default value like 0\n",
    "df.drop_duplicates(inplace=True)    # Drop duplicate rows\n",
    "print(df)"
   ]
  },
  {
   "cell_type": "code",
   "execution_count": 32,
   "id": "34b5baf0-1207-4646-a60d-d0b2b9952fa7",
   "metadata": {},
   "outputs": [
    {
     "name": "stdout",
     "output_type": "stream",
     "text": [
      "      Name  Age\n",
      "1      Bob   30\n",
      "2  Charlie   35\n"
     ]
    }
   ],
   "source": [
    "# FILTERING DATA  - Filtering allows you to select data based on conditions or criteria.\n",
    "filtered = df[df['Age'] > 25]   # Filter rows where Age is greater than 25\n",
    "print(filtered)\n"
   ]
  },
  {
   "cell_type": "code",
   "execution_count": 33,
   "id": "ccc4e489-5632-411b-8098-eb65d113ce63",
   "metadata": {},
   "outputs": [
    {
     "name": "stdout",
     "output_type": "stream",
     "text": [
      "   Key Value1 Value2\n",
      "0    2      B      X\n",
      "1    3      C      Y\n"
     ]
    }
   ],
   "source": [
    "# MERGING DATA  - combine two or more datasets using various types of joins (like inner, outer, etc.).\n",
    "\n",
    "# Sample data\n",
    "df1 = pd.DataFrame({'Key': [1, 2, 3], 'Value1': ['A', 'B', 'C']})\n",
    "df2 = pd.DataFrame({'Key': [2, 3, 4], 'Value2': ['X', 'Y', 'Z']})\n",
    "# Merge on 'Key' column\n",
    "merged=pd.merge(df1,df2,on='Key',how='inner')\n",
    "print(merged)\n",
    "\n",
    "\n",
    "# We merged df1 and df2 on the Key column. The how='inner' argument specifies an inner join, where only rows with matching keys are included in the result.\n",
    "\n"
   ]
  },
  {
   "cell_type": "code",
   "execution_count": 7,
   "id": "bfe146dd-6622-4462-bb83-f5587e49ccbb",
   "metadata": {},
   "outputs": [
    {
     "name": "stdout",
     "output_type": "stream",
     "text": [
      "Column     X     Y\n",
      "Row               \n",
      "A       10.0  20.0\n",
      "B       30.0  40.0\n"
     ]
    }
   ],
   "source": [
    "# RESHAPING DATA - Reshaping changes the structure of data, such as pivoting or stacking/unstacking.\n",
    "\n",
    "# Sample data\n",
    "data = {'Row': ['A', 'A', 'B', 'B'], 'Column': ['X', 'Y', 'X', 'Y'], 'Value': [10, 20, 30, 40]}\n",
    "df = pd.DataFrame(data)\n",
    "# Pivoting the data to create a table\n",
    "pivot=df.pivot_table(values='Value',index='Row',columns='Column')\n",
    "print(pivot)\n",
    "\n",
    "# we used pivot_table to reshape the data. The Row becomes the index, Column becomes the columns, and Value becomes the data inside the table."
   ]
  },
  {
   "cell_type": "code",
   "execution_count": 2,
   "id": "3a728f84-49d7-4ea6-86ca-8e37cc5a4461",
   "metadata": {},
   "outputs": [
    {
     "name": "stdout",
     "output_type": "stream",
     "text": [
      "          Value\n",
      "Category       \n",
      "A          15.0\n",
      "B          35.0\n"
     ]
    }
   ],
   "source": [
    "# DATA AGGREGATION - Aggregation is used to summarize data by grouping and applying functions\n",
    "import pandas as pd\n",
    "# Sample data\n",
    "data = {'Category': ['A', 'A', 'B', 'B'], 'Value': [10, 20, 30, 40]}\n",
    "df = pd.DataFrame(data)\n",
    "# Grouping by Category and calculating the mean\n",
    "grouped = df.groupby('Category').mean()\n",
    "print(grouped)\n"
   ]
  },
  {
   "cell_type": "code",
   "execution_count": null,
   "id": "096ce064-a1a8-4907-9e2a-cb5c8c56ec57",
   "metadata": {},
   "outputs": [],
   "source": [
    "# READING AND WRITING FILES  -  Pandas provides functions to read and write data in various formats like CSV, Excel, etc.\n",
    "\n",
    "df = pd.read_csv('data.csv')           # Reading from a CSV file\n",
    "print(df)\n",
    "df.to_csv('output.csv', index=False)   # Writing to a CSV file\n",
    "print(df)\n",
    "\n",
    "# pd.read_csv() reads data from a CSV file and returns it as a DataFrame.\n",
    "# to_csv() writes the DataFrame to a CSV file.\n",
    "# The argument index=False ensures that the DataFrame's index is not written to the file.\n"
   ]
  },
  {
   "cell_type": "code",
   "execution_count": null,
   "id": "f230bad8-f780-4c1c-8988-7c51ec95cdce",
   "metadata": {},
   "outputs": [],
   "source": []
  }
 ],
 "metadata": {
  "kernelspec": {
   "display_name": "Python 3 (ipykernel)",
   "language": "python",
   "name": "python3"
  },
  "language_info": {
   "codemirror_mode": {
    "name": "ipython",
    "version": 3
   },
   "file_extension": ".py",
   "mimetype": "text/x-python",
   "name": "python",
   "nbconvert_exporter": "python",
   "pygments_lexer": "ipython3",
   "version": "3.12.4"
  }
 },
 "nbformat": 4,
 "nbformat_minor": 5
}
