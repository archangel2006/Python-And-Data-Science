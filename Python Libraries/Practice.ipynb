{
 "cells": [
  {
   "cell_type": "code",
   "execution_count": null,
   "id": "0ea5ce50-b15b-43f6-8221-bc5a5de66a7f",
   "metadata": {},
   "outputs": [],
   "source": [
    "# PANDAS2"
   ]
  },
  {
   "cell_type": "code",
   "execution_count": 74,
   "id": "b63cc7a1-a5a8-4195-9b51-8dd5aada74da",
   "metadata": {},
   "outputs": [
    {
     "name": "stdout",
     "output_type": "stream",
     "text": [
      "    ID   Pokemon      Type\n",
      "0  151       Mew   Psychic\n",
      "1  150    Mewtwo   Psychic\n",
      "2  144  Articuno       Ice\n",
      "3  145    Zapdos  Electric\n",
      "4  146   Moltres      Fire\n"
     ]
    }
   ],
   "source": [
    "import pandas as pd\n",
    "\n",
    "Pokemon=['Mew','Mewtwo','Articuno','Zapdos','Moltres']\n",
    "dataset={\"ID\":[151,150,144,145,146],\"Pokemon\":Pokemon,\"Type\":['Psychic','Psychic','Ice','Electric','Fire']}\n",
    "Pokedex=pd.DataFrame(dataset)\n",
    "print(Pokedex)"
   ]
  },
  {
   "cell_type": "code",
   "execution_count": 75,
   "id": "d95bb6ec-a6ff-42d3-bfd4-945f6515816b",
   "metadata": {},
   "outputs": [
    {
     "name": "stdout",
     "output_type": "stream",
     "text": [
      "    ID   Pokemon      Type\n",
      "0  151       Mew   Psychic\n",
      "1  150    Mewtwo   Psychic\n",
      "2  144  Articuno       Ice\n",
      "3  145    Zapdos  Electric\n",
      "4  146   Moltres      Fire\n",
      "5  250     Ho-oh      Null\n"
     ]
    }
   ],
   "source": [
    "# Adding Data using APPEND/CONCAT: Adding new rows to an existing DataFrame by creating a pandas Series object and appending it.\n",
    "\n",
    "new_pokemon=pd.Series([250,\"Ho-oh\",\"Null\"],index=['ID','Pokemon','Type'])      # Creating a new pandas Series object\n",
    "Pokedex=pd.concat([Pokedex,new_pokemon.to_frame().T],ignore_index=True)      # Appending the new Series to the DataFrame\n",
    "print(Pokedex)"
   ]
  },
  {
   "cell_type": "code",
   "execution_count": 76,
   "id": "4c78fde7-b591-4c95-be74-c6c4eab63575",
   "metadata": {},
   "outputs": [
    {
     "name": "stdout",
     "output_type": "stream",
     "text": [
      "(6, 3)\n",
      "-------------\n",
      "<bound method DataFrame.info of     ID   Pokemon      Type\n",
      "0  151       Mew   Psychic\n",
      "1  150    Mewtwo   Psychic\n",
      "2  144  Articuno       Ice\n",
      "3  145    Zapdos  Electric\n",
      "4  146   Moltres      Fire\n",
      "5  250     Ho-oh      Null>\n",
      "-------------\n"
     ]
    },
    {
     "data": {
      "text/plain": [
       "<bound method DataFrame.corr of     ID   Pokemon      Type\n",
       "0  151       Mew   Psychic\n",
       "1  150    Mewtwo   Psychic\n",
       "2  144  Articuno       Ice\n",
       "3  145    Zapdos  Electric\n",
       "4  146   Moltres      Fire\n",
       "5  250     Ho-oh      Null>"
      ]
     },
     "execution_count": 76,
     "metadata": {},
     "output_type": "execute_result"
    }
   ],
   "source": [
    "print(Pokedex.shape)    # dimension of the dataframe \n",
    "print('-------------')\n",
    "print(Pokedex.info)     # showing info about the data  \n",
    "print('-------------')\n",
    "Pokedex.corr            # correlation between columns\n"
   ]
  },
  {
   "cell_type": "code",
   "execution_count": 77,
   "id": "d6c8ebfd-afc3-4d6c-8e7b-0b38e10c24e2",
   "metadata": {},
   "outputs": [
    {
     "data": {
      "text/html": [
       "<div>\n",
       "<style scoped>\n",
       "    .dataframe tbody tr th:only-of-type {\n",
       "        vertical-align: middle;\n",
       "    }\n",
       "\n",
       "    .dataframe tbody tr th {\n",
       "        vertical-align: top;\n",
       "    }\n",
       "\n",
       "    .dataframe thead th {\n",
       "        text-align: right;\n",
       "    }\n",
       "</style>\n",
       "<table border=\"1\" class=\"dataframe\">\n",
       "  <thead>\n",
       "    <tr style=\"text-align: right;\">\n",
       "      <th></th>\n",
       "      <th>ID</th>\n",
       "      <th>Pokemon</th>\n",
       "      <th>Type</th>\n",
       "    </tr>\n",
       "  </thead>\n",
       "  <tbody>\n",
       "    <tr>\n",
       "      <th>0</th>\n",
       "      <td>151</td>\n",
       "      <td>Mew</td>\n",
       "      <td>Psychic</td>\n",
       "    </tr>\n",
       "    <tr>\n",
       "      <th>1</th>\n",
       "      <td>150</td>\n",
       "      <td>Mewtwo</td>\n",
       "      <td>Psychic</td>\n",
       "    </tr>\n",
       "    <tr>\n",
       "      <th>2</th>\n",
       "      <td>144</td>\n",
       "      <td>Articuno</td>\n",
       "      <td>Ice</td>\n",
       "    </tr>\n",
       "    <tr>\n",
       "      <th>3</th>\n",
       "      <td>145</td>\n",
       "      <td>Zapdos</td>\n",
       "      <td>Electric</td>\n",
       "    </tr>\n",
       "    <tr>\n",
       "      <th>4</th>\n",
       "      <td>146</td>\n",
       "      <td>Moltres</td>\n",
       "      <td>Fire</td>\n",
       "    </tr>\n",
       "    <tr>\n",
       "      <th>5</th>\n",
       "      <td>250</td>\n",
       "      <td>Ho-oh</td>\n",
       "      <td>Null</td>\n",
       "    </tr>\n",
       "  </tbody>\n",
       "</table>\n",
       "</div>"
      ],
      "text/plain": [
       "    ID   Pokemon      Type\n",
       "0  151       Mew   Psychic\n",
       "1  150    Mewtwo   Psychic\n",
       "2  144  Articuno       Ice\n",
       "3  145    Zapdos  Electric\n",
       "4  146   Moltres      Fire\n",
       "5  250     Ho-oh      Null"
      ]
     },
     "execution_count": 77,
     "metadata": {},
     "output_type": "execute_result"
    }
   ],
   "source": [
    "# Statistical Analysis of Data\n",
    "Pokedex.describe()\n",
    "\n",
    "#Dropping Column and Rows\n",
    "Pokedex.drop(5,axis=0)   # drops row\n",
    "Pokedex.drop('Type',axis=1) # drops column\n",
    "Pokedex.dropna(axis=1)  # drops column with null values"
   ]
  },
  {
   "cell_type": "code",
   "execution_count": 80,
   "id": "7bffb4c0-deea-44e9-b2e7-113a7c562883",
   "metadata": {},
   "outputs": [
    {
     "name": "stdout",
     "output_type": "stream",
     "text": [
      "    ID Pokemon     Type\n",
      "0  151     Mew  Psychic\n",
      "1  150  Mewtwo  Psychic\n",
      "-------------\n",
      "None\n",
      "-------------\n",
      "None\n",
      "-------------\n",
      "    ID   Pokemon      Type\n",
      "2  144  Articuno       Ice\n",
      "3  145    Zapdos  Electric\n",
      "4  146   Moltres      Fire\n",
      "1  150    Mewtwo   Psychic\n",
      "0  151       Mew   Psychic\n",
      "5  250     Ho-oh      Null\n",
      "-------------\n",
      "    ID   Pokemon      Type\n",
      "0  151       Mew   Psychic\n",
      "1  150    Mewtwo   Psychic\n",
      "2  144  Articuno       Ice\n",
      "3  145    Zapdos  Electric\n",
      "4  146   Moltres      Fire\n",
      "5  250     Ho-oh      Null\n"
     ]
    }
   ],
   "source": [
    "# Various DataFrame Operations\n",
    "print(Pokedex.head(2))\n",
    "print('-------------')\n",
    "print(Pokedex.dropna(inplace=True))\n",
    "print('-------------')\n",
    "print(Pokedex.fillna('?',inplace=True))\n",
    "print('-------------')\n",
    "print(Pokedex.sort_values(by='ID'))\n",
    "print('-------------')\n",
    "print(Pokedex)"
   ]
  },
  {
   "cell_type": "code",
   "execution_count": 73,
   "id": "5fa5343f-11c0-4eaa-98f6-9ca52786411a",
   "metadata": {},
   "outputs": [
    {
     "name": "stdout",
     "output_type": "stream",
     "text": [
      "  PokedexID      Name  Category PokedexID   Name Category\n",
      "0       151       Mew   Psychic       NaN    NaN      NaN\n",
      "1       150    Mewtwo   Psychic       NaN    NaN      NaN\n",
      "2       144  Articuno       Ice       NaN    NaN      NaN\n",
      "3       145    Zapdos  Electric       NaN    NaN      NaN\n",
      "4       146   Moltres      Fire       NaN    NaN      NaN\n",
      "5       250     Ho-oh      Null       NaN    NaN      NaN\n",
      "6       250     Ho-oh      Null       NaN    NaN      NaN\n",
      "7       NaN       NaN       NaN       250  Ho-oh     Null\n"
     ]
    }
   ],
   "source": [
    "# Renaming columns\n",
    "Pokedex.rename(columns={'ID': 'PokedexID', 'Pokemon': 'Name', 'Type': 'Category'}, inplace=True)\n",
    "print(Pokedex)"
   ]
  },
  {
   "cell_type": "code",
   "execution_count": 83,
   "id": "457ccdd7-29cf-479b-9843-50c74399c891",
   "metadata": {},
   "outputs": [
    {
     "name": "stdout",
     "output_type": "stream",
     "text": [
      "    ID  Pokemon     Type\n",
      "0  151      Mew  Psychic\n",
      "1  150   Mewtwo  Psychic\n",
      "4  146  Moltres     Fire\n",
      "5  250    Ho-oh     Null\n",
      "-------------\n",
      "    ID   Pokemon\n",
      "2  144  Articuno\n",
      "3  145    Zapdos\n",
      "4  146   Moltres\n",
      "-------------\n",
      "    ID   Pokemon\n",
      "0  151       Mew\n",
      "1  150    Mewtwo\n",
      "2  144  Articuno\n"
     ]
    }
   ],
   "source": [
    "# Selecting rows where 'PokedexID' is greater than 145\n",
    "filtered_pokedex = Pokedex.loc[Pokedex['ID'] > 145]\n",
    "print(filtered_pokedex)\n",
    "\n",
    "print('-------------')\n",
    "\n",
    "# Selecting specific rows and columns by labels\n",
    "filtered_pokedex = Pokedex.loc[2:4, ['ID', 'Pokemon']]\n",
    "print(filtered_pokedex)\n",
    "\n",
    "print('-------------')\n",
    "\n",
    "# Selecting the first three rows and first two columns\n",
    "subset_pokedex = Pokedex.iloc[:3, :2]\n",
    "print(subset_pokedex)\n"
   ]
  },
  {
   "cell_type": "code",
   "execution_count": null,
   "id": "ab8ac0f8-4a99-4c89-9641-614a302fc155",
   "metadata": {},
   "outputs": [],
   "source": [
    "# Defining a custom function to classify types\n",
    "def classify_type(type):\n",
    "    if type in ['Psychic', 'Ice']:\n",
    "        return 'Special'\n",
    "    else:\n",
    "        return 'Normal'\n",
    "\n",
    "# Applying the function to the 'Category' column\n",
    "Pokedex['Type_Class'] = Pokedex['Category'].apply(classify_type)\n",
    "print(Pokedex)\n"
   ]
  }
 ],
 "metadata": {
  "kernelspec": {
   "display_name": "Python 3 (ipykernel)",
   "language": "python",
   "name": "python3"
  },
  "language_info": {
   "codemirror_mode": {
    "name": "ipython",
    "version": 3
   },
   "file_extension": ".py",
   "mimetype": "text/x-python",
   "name": "python",
   "nbconvert_exporter": "python",
   "pygments_lexer": "ipython3",
   "version": "3.12.4"
  }
 },
 "nbformat": 4,
 "nbformat_minor": 5
}
